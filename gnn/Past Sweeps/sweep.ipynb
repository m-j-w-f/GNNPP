{
 "cells": [
  {
   "attachments": {},
   "cell_type": "markdown",
   "metadata": {
    "id": "xL1uIysaxXeo"
   },
   "source": [
    "# Sweep\n",
    "\n",
    "This Notebook is used to run a hyperparameter search using a sweep from W&B\n",
    "\n",
    "The GNN consits of n Layers of type ResGNN or Gatv2conv.\n",
    "After that the output is transformed to a shape of 2 x N, where N is the number of stations.\n",
    "\n",
    "The Results of this run can be viewd at [WandB](https://wandb.ai/feik/GNNPP/sweeps/svtsdej6?workspace=user-feik).\n",
    "\n",
    "Since the Parameter space of this search is very large, first a search of very relevant parameters is done.\n",
    "\n",
    "Parameters I think are relevant (from experiments) are:\n",
    " - Number of Layers\n",
    " - Type of Layers\n",
    " - Hidden Dimension\n",
    " - Heads\n",
    " - Max Dist"
   ]
  },
  {
   "attachments": {},
   "cell_type": "markdown",
   "metadata": {},
   "source": [
    "## TODO\n",
    " - Write this as a python only function and use if __name__ == \"__main__\":\n",
    "    train()\n",
    " - Check assertion error for Conv\n",
    " - Run from command line then"
   ]
  },
  {
   "cell_type": "code",
   "execution_count": 2,
   "metadata": {},
   "outputs": [],
   "source": [
    "# Set Notebook Name for WandB\n",
    "import os\n",
    "os.environ['WANDB_NOTEBOOK_NAME'] = 'sweep.ipynb'"
   ]
  },
  {
   "cell_type": "code",
   "execution_count": 3,
   "metadata": {
    "ExecuteTime": {
     "end_time": "2023-05-25T22:32:46.883841Z",
     "start_time": "2023-05-25T22:32:46.222127Z"
    },
    "id": "wNM6n3pzxXes"
   },
   "outputs": [],
   "source": [
    "from helpers import load_data, load_stations, clean_data, normalize_data, create_data, visualize_graph\n",
    "from torch_geometric.data import Data\n",
    "from torch_geometric.loader import DataLoader\n",
    "from torch_geometric.nn import GCNConv, GATConv, GATv2Conv, Sequential, summary\n",
    "from torch_geometric.utils import to_networkx\n",
    "from torch.nn import Linear, Embedding, Dropout, ModuleList\n",
    "from tqdm import tqdm, trange\n",
    "\n",
    "import cartopy.crs as ccrs\n",
    "import cartopy.feature as cfeature\n",
    "import geopy.distance\n",
    "import matplotlib as mpl\n",
    "import matplotlib.pyplot as plt\n",
    "import networkx as nx\n",
    "import numpy as np\n",
    "import numpy as np\n",
    "import pandas as pd\n",
    "import torch\n",
    "import torch.nn.functional as F\n",
    "import traceback\n",
    "import wandb\n",
    "\n",
    "%matplotlib inline\n",
    "plt.style.use('default')"
   ]
  },
  {
   "attachments": {},
   "cell_type": "markdown",
   "metadata": {},
   "source": [
    "## Import of Data"
   ]
  },
  {
   "cell_type": "code",
   "execution_count": 4,
   "metadata": {
    "ExecuteTime": {
     "end_time": "2023-05-25T22:33:25.274277Z",
     "start_time": "2023-05-25T22:33:17.750095Z"
    },
    "id": "a4YlQ6WXxXet"
   },
   "outputs": [],
   "source": [
    "# Get Data from feather\n",
    "data = load_data(indexed=False)\n",
    "# Get List of stations with all stations -> will break further code if cut already\n",
    "stations = load_stations(data)\n",
    "# Clean Data\n",
    "data = clean_data(data, max_missing=121, max_alt=1000.0)\n",
    "# Normalize Data\n",
    "normalized_data = normalize_data(data, last_obs=-365) #last_obs is -365 since the last year is used for testing"
   ]
  },
  {
   "attachments": {},
   "cell_type": "markdown",
   "metadata": {
    "ExecuteTime": {
     "end_time": "2023-05-23T18:03:42.033094Z",
     "start_time": "2023-05-23T18:03:38.328937Z"
    },
    "id": "Usqz-8knxXet"
   },
   "source": [
    "## Create the torch dataset\n",
    "\n",
    "The Dataset which is a `pandas.DataFrame` gets converted to a `torch_geometric.data` object, which then can be processed by the GNN"
   ]
  },
  {
   "cell_type": "code",
   "execution_count": 5,
   "metadata": {
    "collapsed": false
   },
   "outputs": [],
   "source": [
    "#dist_matrix = compute_dist_matrix(stations)\n",
    "#np.save(dist_matrix, 'dist_matrix.npy')"
   ]
  },
  {
   "cell_type": "code",
   "execution_count": 6,
   "metadata": {
    "ExecuteTime": {
     "end_time": "2023-05-25T22:40:01.945004Z",
     "start_time": "2023-05-25T22:39:13.566162Z"
    },
    "colab": {
     "base_uri": "https://localhost:8080/"
    },
    "executionInfo": {
     "elapsed": 40648,
     "status": "ok",
     "timestamp": 1683747193612,
     "user": {
      "displayName": "",
      "userId": ""
     },
     "user_tz": -120
    },
    "id": "VjSzAVBUxXeu",
    "outputId": "1c8425f2-2768-4f78-aec9-b2e5a942bac9"
   },
   "outputs": [],
   "source": [
    "def build_dataloaders(max_dist: int, batch_size: int):\n",
    "    dist_matrix = np.load('dist_matrix.npy')\n",
    "\n",
    "    # Create a boolean mask indicating which edges to include\n",
    "    mask = (dist_matrix <= max_dist) & (dist_matrix != 0)\n",
    "\n",
    "    torch_data = []\n",
    "    for date in tqdm(data['date'].unique(), desc=\"Building dataset\"):\n",
    "        torch_data.append(create_data(df=normalized_data, date=date, mask=mask, dist_matrix=dist_matrix))\n",
    "\n",
    "    # Definition of train_loader and valid_loader\n",
    "    train_loader = DataLoader(torch_data[:-730], batch_size=batch_size, shuffle=True)\n",
    "    valid_loader = DataLoader(torch_data[-730:-365], batch_size=batch_size, shuffle=True)\n",
    "    test_loader = DataLoader(torch_data[-365:], batch_size=batch_size, shuffle=True)\n",
    "    \n",
    "    return train_loader, valid_loader, test_loader"
   ]
  },
  {
   "attachments": {},
   "cell_type": "markdown",
   "metadata": {
    "ExecuteTime": {
     "end_time": "2023-05-23T18:35:08.850757Z",
     "start_time": "2023-05-23T18:35:08.141967Z"
    },
    "id": "717jQLucxXey"
   },
   "source": [
    "## GNN\n",
    "\n",
    "In the following, some layers for the GNN and the loss function are defined."
   ]
  },
  {
   "attachments": {},
   "cell_type": "markdown",
   "metadata": {
    "ExecuteTime": {
     "end_time": "2023-05-23T18:05:45.443622Z",
     "start_time": "2023-05-23T18:05:44.674331Z"
    }
   },
   "source": [
    "### CRPS Loss Function\n",
    "\n",
    "\\begin{align*}\n",
    "\n",
    "    \\operatorname{crps}(F,X)=&\\int_{-\\inf}^{\\inf}\\left(F(y)-\\boldsymbol{1}_{(y-x)}\\right)^2dy\\\\\n",
    "\n",
    "\\end{align*}\n",
    "\n",
    "Closed form expression from Gneiting et al. (2005)\n",
    "\n",
    "\\begin{align*}\n",
    "\n",
    "    \\operatorname{crps}\\left(\\mathcal{N}\\left(\\mu, \\sigma^2\\right), y\\right)= & \\sigma\\left\\{\\frac{y-\\mu}{\\sigma}\\left[2 \\Phi\\left(\\frac{y-\\mu}{\\sigma}\\right)-1\\right] +2 \\varphi\\left(\\frac{y-\\mu}{\\sigma}\\right)-\\frac{1}{\\sqrt{\\pi}}\\right\\}\n",
    "\n",
    "\\end{align*}\n",
    "\n",
    "$\\Phi\\left(\\frac{y-\\mu}{\\sigma}\\right)$ denotes the CDF of a standard normal distribution and $\\varphi\\left(\\frac{y-\\mu}{\\sigma}\\right)$ denotes the PDF of a standard normal distribution"
   ]
  },
  {
   "cell_type": "code",
   "execution_count": 7,
   "metadata": {
    "ExecuteTime": {
     "end_time": "2023-05-25T21:57:49.882654Z",
     "start_time": "2023-05-25T21:57:49.878788Z"
    }
   },
   "outputs": [],
   "source": [
    "def crps(mu: torch.tensor, sigma: torch.tensor, y: torch.tensor):\n",
    "    \"\"\"Calculates the Continuous Ranked Probability Score (CRPS) assuming normally distributed df\n",
    "\n",
    "    Args:\n",
    "        mu (torch.tensor): mean\n",
    "        sigma (torch.tensor): standard deviation\n",
    "        y (torch.tensor): observed df\n",
    "\n",
    "    Returns:\n",
    "        torch.tensor: CRPS value\n",
    "    \"\"\"\n",
    "    y = y.view((-1,1)) # make sure y has the right shape\n",
    "    PI = np.pi #3.14159265359\n",
    "    omega = (y - mu) / sigma\n",
    "    # PDF of normal distribution at omega\n",
    "    pdf = 1/(torch.sqrt(torch.tensor(2 * PI))) * torch.exp(-0.5 * omega ** 2)\n",
    "    \n",
    "    # Source: https://stats.stackexchange.com/questions/187828/how-are-the-error-function-and-standard-normal-distribution-function-related\n",
    "    cdf = 0.5 * (1 + torch.erf(omega / torch.sqrt(torch.tensor(2))))\n",
    "    \n",
    "    crps = sigma * (omega * (2 * cdf - 1) + 2 * pdf - 1/torch.sqrt(torch.tensor(PI)))\n",
    "    return  torch.mean(crps)"
   ]
  },
  {
   "attachments": {},
   "cell_type": "markdown",
   "metadata": {},
   "source": [
    "### GNN\n",
    "Definition of Model and Training"
   ]
  },
  {
   "cell_type": "code",
   "execution_count": 8,
   "metadata": {
    "ExecuteTime": {
     "end_time": "2023-05-25T21:59:15.635664Z",
     "start_time": "2023-05-25T21:59:15.595417Z"
    },
    "colab": {
     "base_uri": "https://localhost:8080/"
    },
    "executionInfo": {
     "elapsed": 12,
     "status": "ok",
     "timestamp": 1683747211276,
     "user": {
      "displayName": "",
      "userId": ""
     },
     "user_tz": -120
    },
    "id": "9rNDdBPQxXey",
    "outputId": "0e0462f5-6195-4e9f-acf8-aaaf65cb9597"
   },
   "outputs": [
    {
     "data": {
      "text/plain": [
       "device(type='cuda', index=0)"
      ]
     },
     "execution_count": 8,
     "metadata": {},
     "output_type": "execute_result"
    }
   ],
   "source": [
    "device = torch.device(\"cuda:0\" if torch.cuda.is_available() else \"mps\" if torch.backends.mps.is_available() else \"cpu\")\n",
    "device"
   ]
  },
  {
   "cell_type": "code",
   "execution_count": 9,
   "metadata": {
    "ExecuteTime": {
     "end_time": "2023-05-25T21:57:58.827984Z",
     "start_time": "2023-05-25T21:57:58.811673Z"
    },
    "collapsed": false
   },
   "outputs": [],
   "source": [
    "class Convolution(torch.nn.Module):\n",
    "    def __init__(self, out_channels, hidden_channels, heads, num_layers:int=None):\n",
    "        super(Convolution, self).__init__()\n",
    "        # Make sure either hidden_channels is a list, heads is a list or num_layer is supplied\n",
    "        assert isinstance(hidden_channels, list) or isinstance(heads, list) or num_layers is not None,\\\n",
    "                \"If hidden_channels is not a list, num_layers must be specified.\"\n",
    "        # both are a list\n",
    "        if isinstance(hidden_channels, list) and isinstance(heads, list):\n",
    "            assert len(hidden_channels) == len(heads), f\"Lengths of lists {len(hidden_channels)} and {len(heads)} do not match.\"\n",
    "        # only hidden_channels is list\n",
    "        if isinstance(hidden_channels, list) and not isinstance(heads, list):\n",
    "            heads = [heads] * len(hidden_channels)\n",
    "        # only heads is list\n",
    "        if isinstance(heads, list) and not isinstance(hidden_channels, list):\n",
    "            hidden_channels = [hidden_channels] * len(heads)\n",
    "        # none is list\n",
    "        if not isinstance(heads, list) and not isinstance(hidden_channels, list):\n",
    "            heads = [heads] * num_layers\n",
    "            hidden_channels = [hidden_channels] * num_layers\n",
    "        \n",
    "        # definition of Layers\n",
    "        self.convolutions = ModuleList()\n",
    "        for c, h in zip(hidden_channels, heads):\n",
    "            self.convolutions.append(GATv2Conv(in_channels=-1, out_channels=c, heads=h, edge_dim=1))\n",
    "        # Last Layer to match shape of output\n",
    "        self.lin = Linear(in_features=hidden_channels[-1] * heads[-1], out_features=out_channels)\n",
    "\n",
    "    def forward(self, x, edge_index, edge_attr):\n",
    "        x = x.float()\n",
    "        edge_attr = edge_attr.float()\n",
    "        \n",
    "        for conv in self.convolutions:\n",
    "            x = F.relu(conv(x, edge_index, edge_attr))\n",
    "        \n",
    "        x = F.relu(self.lin(x))\n",
    "        return x\n",
    "\n",
    "\n",
    "class EmbedStations(torch.nn.Module):\n",
    "    def __init__(self, num_stations_max, embedding_dim):\n",
    "        super(EmbedStations, self).__init__()\n",
    "        self.embed = Embedding(num_embeddings=num_stations_max, embedding_dim=embedding_dim)\n",
    "\n",
    "    def forward(self, x):\n",
    "        station_ids = x[:, 0].long()\n",
    "        emb_station = self.embed(station_ids)\n",
    "        x = torch.cat((emb_station, x[:, 1:]), dim=1) # Concatenate embedded station_id to rest of the feature vector\n",
    "        return x\n",
    "\n",
    "\n",
    "class MakePositive(torch.nn.Module):\n",
    "    def __init__(self):\n",
    "        super(MakePositive, self).__init__()\n",
    "\n",
    "    def forward(self, x):\n",
    "        mu, sigma = torch.split(x, 1, dim=-1)\n",
    "        sigma = F.softplus(sigma) # ensure that sigma is positive\n",
    "        return mu, sigma\n",
    "\n",
    "\n",
    "class ResGnn(torch.nn.Module):\n",
    "    def __init__(self, out_channels, num_layers, hidden_channels, heads):\n",
    "        super(ResGnn, self).__init__()\n",
    "        assert num_layers > 0, \"num_layers must be > 0.\"\n",
    "\n",
    "        # Create Layers\n",
    "        self.convolutions = ModuleList()\n",
    "        for i in range(num_layers):\n",
    "            if i == 0:\n",
    "                self.convolutions.append(GATv2Conv(-1, hidden_channels, heads=heads, edge_dim=1))\n",
    "            else:\n",
    "                self.convolutions.append((GATv2Conv(-1, hidden_channels, heads=heads, edge_dim=1)))\n",
    "        self.lin = Linear(hidden_channels * heads, out_channels) #hier direkt 2 testen\n",
    "\n",
    "    def forward(self, x, edge_index, edge_attr):\n",
    "        x = x.float()\n",
    "        edge_attr = edge_attr.float()\n",
    "        for i, conv in enumerate(self.convolutions):\n",
    "            if i == 0:\n",
    "                # First Layer\n",
    "                x = conv(x, edge_index, edge_attr)\n",
    "                x = F.relu(x)\n",
    "            else:\n",
    "                x = x + F.relu(conv(x, edge_index, edge_attr)) # Residual Layers\n",
    "\n",
    "        x = self.lin(x)\n",
    "        x = F.relu(x)\n",
    "        return x"
   ]
  },
  {
   "cell_type": "code",
   "execution_count": 10,
   "metadata": {},
   "outputs": [],
   "source": [
    "def build_model(embed_dim:int, hidden_channels:int, heads:int, num_layers:int, type:str):\n",
    "    \"\"\"Builds  a model with the specified parameters\n",
    "\n",
    "    Args:\n",
    "        embed_dim (int): embedding dimension of the station id\n",
    "        hidden_channels (int): number of hidden channels used by the convolution layers\n",
    "        heads (int): number of heads used for the attention of the convolution layers\n",
    "        num_layers (int): depth of the convolution layers\n",
    "        linear_size (int): size of the linear layer\n",
    "        type (str): type of the model, either 'ResGNNv2' or 'GATConvv2'\n",
    "\n",
    "\n",
    "    Returns:\n",
    "        _type_: returns a model with the specified parameters\n",
    "    \"\"\"\n",
    "    torch.cuda.empty_cache()\n",
    "    \n",
    "    if type == 'ResGNNv2':\n",
    "        conv = (ResGnn(out_channels=2, hidden_channels=hidden_channels, heads=heads, num_layers=num_layers), 'x, edge_index, edge_attr -> x')\n",
    "    elif type == 'GATConvv2':\n",
    "        conv = (Convolution(out_channels=2, hidden_channels=hidden_channels, heads=heads, num_layers=num_layers), 'x, edge_index, edge_attr -> x')\n",
    "    \n",
    "    model = Sequential('x, edge_index, edge_attr',\n",
    "                   [\n",
    "                       (EmbedStations(num_stations_max=535, embedding_dim=embed_dim), 'x -> x'),\n",
    "                       conv,\n",
    "                       #(Linear(linear_size, 2),'x -> x'),\n",
    "                       (MakePositive(), 'x -> mu, sigma')\n",
    "                   ])\n",
    "    model.to(device)\n",
    "    \n",
    "    return model\n",
    "\n",
    "def build_optimizer(model, learning_rate: float) -> torch.optim.Optimizer:\n",
    "    \"\"\"Defines the optimizer for the model\n",
    "\n",
    "\n",
    "    Args:\n",
    "        model (_type_): model for which the optimizer is defined\n",
    "        learning_rate (float): learning rate\n",
    "\n",
    "    Returns:\n",
    "        torch.optim.Optimizer: returns the optimizer for the model\n",
    "    \"\"\"\n",
    "    optimizer = torch.optim.AdamW(model.parameters(), lr=learning_rate)\n",
    "    return optimizer"
   ]
  },
  {
   "cell_type": "code",
   "execution_count": 11,
   "metadata": {},
   "outputs": [],
   "source": [
    "def eval(model, test_loader):\n",
    "    model.eval()\n",
    "    mu_list = []\n",
    "    sigma_list = []\n",
    "    err_list = []\n",
    "    y_list = []\n",
    "\n",
    "\n",
    "    for batch in test_loader:\n",
    "        batch.to(device)\n",
    "        mu, sigma = model(batch.x, batch.edge_index, batch.edge_attr)\n",
    "        y = batch.y\n",
    "        err = crps(mu, sigma, y)\n",
    "        mu = mu.detach().cpu().numpy().flatten()\n",
    "        sigma = sigma.detach().cpu().numpy().flatten()\n",
    "        y = y.cpu().numpy()\n",
    "        err = err.detach().cpu().numpy()\n",
    "\n",
    "        mu_list.append(mu)\n",
    "        sigma_list.append(sigma)\n",
    "        y_list.append(y)\n",
    "        err_list.append(err*len(batch))\n",
    "\n",
    "    err = sum(err_list) / len(test_loader.dataset)\n",
    "    return err"
   ]
  },
  {
   "cell_type": "code",
   "execution_count": 12,
   "metadata": {},
   "outputs": [],
   "source": [
    "def train_model(config=None):\n",
    "    with wandb.init(config=config):\n",
    "        config = wandb.config\n",
    "        train_loader, valid_loader, test_loader = build_dataloaders(max_dist=config.max_dist, batch_size=config.batch_size)\n",
    "        \n",
    "        model = build_model(embed_dim=config.embed_dim,\n",
    "                            hidden_channels=config.hidden_channels,\n",
    "                            heads=config.heads,\n",
    "                            num_layers=config.num_layers,\n",
    "                            #linear_size=config.linear_size,\n",
    "                            type=config.type)\n",
    "        \n",
    "        optimizer = build_optimizer(model=model, learning_rate=config.learning_rate)\n",
    "        \n",
    "        best_val_loss = float('inf')\n",
    "        \n",
    "        def train(batch):\n",
    "            batch.to(device)\n",
    "            optimizer.zero_grad()\n",
    "            out = model(batch.x, batch.edge_index, batch.edge_attr)\n",
    "            mu, sigma = out\n",
    "            loss = crps(mu, sigma, batch.y)\n",
    "            loss.backward()\n",
    "            optimizer.step()\n",
    "            return loss\n",
    "        \n",
    "        @torch.no_grad()\n",
    "        def valid(batch):\n",
    "            batch.to(device)\n",
    "            out = model(batch.x, batch.edge_index, batch.edge_attr)\n",
    "            mu, sigma = out\n",
    "            loss = crps(mu, sigma, batch.y)\n",
    "            return loss\n",
    "        \n",
    "        epochs_pbar = trange(config.max_epochs, desc=\"Epochs\")\n",
    "        for epoch in epochs_pbar:\n",
    "            # Train for one epoch\n",
    "            model.train()\n",
    "            train_loss = 0.0\n",
    "            for batch in train_loader:\n",
    "                loss = train(batch)\n",
    "                train_loss += loss.item() * batch.num_graphs\n",
    "            train_loss /= len(train_loader.dataset)\n",
    "                \n",
    "            # Evaluate on the validation set\n",
    "            model.eval()\n",
    "            val_loss = 0.0\n",
    "            for batch in valid_loader:\n",
    "                loss = valid(batch)\n",
    "                val_loss += loss.item() * batch.num_graphs\n",
    "            val_loss /= len(valid_loader.dataset)\n",
    "            \n",
    "            # Check if the validation loss has improved\n",
    "            if val_loss < best_val_loss:\n",
    "                best_val_loss = val_loss\n",
    "                no_improvement = 0\n",
    "                # Save model checkpoint\n",
    "                wandb.log({\"best_val_loss\": best_val_loss})\n",
    "                torch.save({\n",
    "                    'model_state_dict': model.state_dict(),\n",
    "                    'optimizer_state_dict': optimizer.state_dict(),\n",
    "                    }, \"checkpoint.pt\")\n",
    "            else:\n",
    "                no_improvement += 1\n",
    "            \n",
    "            # Log to WandB\n",
    "            wandb.log({\"train_loss\": train_loss, \"val_loss\": val_loss})\n",
    "            epochs_pbar.set_postfix({\"Train Loss\": train_loss, \"Val Loss\": val_loss, \"Best Loss\": best_val_loss, \"No Improvement\": no_improvement})\n",
    "            # Early stopping\n",
    "            if no_improvement == config.patience:\n",
    "                print('Early stopping.')\n",
    "                break\n",
    "        \n",
    "        # Load weights from model checkpoint\n",
    "        checkpoint = torch.load(\"checkpoint.pt\")\n",
    "        model.load_state_dict(checkpoint['model_state_dict'])\n",
    "        optimizer.load_state_dict(checkpoint['optimizer_state_dict'])\n",
    "        \n",
    "        test_error = eval(model=model, test_loader=test_loader)\n",
    "        \n",
    "        wandb.log({\"best_val_loss\": best_val_loss,\n",
    "                   \"trained_epochs\": epoch-config.patience,\n",
    "                   \"evaluation_error\": test_error})\n",
    "        \n",
    "        # Free memory\n",
    "        model.to('cpu')\n",
    "        torch.cuda.empty_cache()\n",
    "        \n",
    "def train_model_catch_errors(config=None):\n",
    "    try:\n",
    "        train_model(config=config)\n",
    "    except Exception as e:\n",
    "        # exit gracefully, so wandb logs the problem\n",
    "        print(traceback.print_exc())\n",
    "        exit(1)"
   ]
  },
  {
   "cell_type": "code",
   "execution_count": 13,
   "metadata": {},
   "outputs": [
    {
     "name": "stderr",
     "output_type": "stream",
     "text": [
      "\u001b[34m\u001b[1mwandb\u001b[0m: Agent Starting Run: gqv1y7v4 with config:\n",
      "\u001b[34m\u001b[1mwandb\u001b[0m: \tbatch_size: 8\n",
      "\u001b[34m\u001b[1mwandb\u001b[0m: \tembed_dim: 2\n",
      "\u001b[34m\u001b[1mwandb\u001b[0m: \theads: 1\n",
      "\u001b[34m\u001b[1mwandb\u001b[0m: \thidden_channels: 1\n",
      "\u001b[34m\u001b[1mwandb\u001b[0m: \tlearning_rate: 0.002\n",
      "\u001b[34m\u001b[1mwandb\u001b[0m: \tmax_dist: 25\n",
      "\u001b[34m\u001b[1mwandb\u001b[0m: \tmax_epochs: 150\n",
      "\u001b[34m\u001b[1mwandb\u001b[0m: \tnum_layers: 1\n",
      "\u001b[34m\u001b[1mwandb\u001b[0m: \tpatience: 25\n",
      "\u001b[34m\u001b[1mwandb\u001b[0m: \ttype: GATConvv2\n",
      "\u001b[34m\u001b[1mwandb\u001b[0m: Currently logged in as: \u001b[33mfeik\u001b[0m. Use \u001b[1m`wandb login --relogin`\u001b[0m to force relogin\n"
     ]
    },
    {
     "data": {
      "text/html": [
       "Tracking run with wandb version 0.15.3"
      ],
      "text/plain": [
       "<IPython.core.display.HTML object>"
      ]
     },
     "metadata": {},
     "output_type": "display_data"
    },
    {
     "data": {
      "text/html": [
       "Run data is saved locally in <code>c:\\Users\\morit\\GNNPP\\gnn\\wandb\\run-20230602_215952-gqv1y7v4</code>"
      ],
      "text/plain": [
       "<IPython.core.display.HTML object>"
      ]
     },
     "metadata": {},
     "output_type": "display_data"
    },
    {
     "data": {
      "text/html": [
       "Syncing run <strong><a href='https://wandb.ai/feik/GNNPP/runs/gqv1y7v4' target=\"_blank\">fast-sweep-1</a></strong> to <a href='https://wandb.ai/feik/GNNPP' target=\"_blank\">Weights & Biases</a> (<a href='https://wandb.me/run' target=\"_blank\">docs</a>)<br/>Sweep page: <a href='https://wandb.ai/feik/GNNPP/sweeps/fo6141n7' target=\"_blank\">https://wandb.ai/feik/GNNPP/sweeps/fo6141n7</a>"
      ],
      "text/plain": [
       "<IPython.core.display.HTML object>"
      ]
     },
     "metadata": {},
     "output_type": "display_data"
    },
    {
     "data": {
      "text/html": [
       " View project at <a href='https://wandb.ai/feik/GNNPP' target=\"_blank\">https://wandb.ai/feik/GNNPP</a>"
      ],
      "text/plain": [
       "<IPython.core.display.HTML object>"
      ]
     },
     "metadata": {},
     "output_type": "display_data"
    },
    {
     "data": {
      "text/html": [
       " View sweep at <a href='https://wandb.ai/feik/GNNPP/sweeps/fo6141n7' target=\"_blank\">https://wandb.ai/feik/GNNPP/sweeps/fo6141n7</a>"
      ],
      "text/plain": [
       "<IPython.core.display.HTML object>"
      ]
     },
     "metadata": {},
     "output_type": "display_data"
    },
    {
     "data": {
      "text/html": [
       " View run at <a href='https://wandb.ai/feik/GNNPP/runs/gqv1y7v4' target=\"_blank\">https://wandb.ai/feik/GNNPP/runs/gqv1y7v4</a>"
      ],
      "text/plain": [
       "<IPython.core.display.HTML object>"
      ]
     },
     "metadata": {},
     "output_type": "display_data"
    },
    {
     "name": "stderr",
     "output_type": "stream",
     "text": [
      "Building dataset: 100%|██████████| 3530/3530 [00:27<00:00, 127.53it/s]\n",
      "Epochs:  31%|███       | 46/150 [01:55<04:20,  2.50s/it, Train Loss=7.94, Val Loss=7.94, Best Loss=7.94, No Improvement=25]\n"
     ]
    },
    {
     "name": "stdout",
     "output_type": "stream",
     "text": [
      "Early stopping.\n"
     ]
    },
    {
     "data": {
      "text/html": [
       "Waiting for W&B process to finish... <strong style=\"color:green\">(success).</strong>"
      ],
      "text/plain": [
       "<IPython.core.display.HTML object>"
      ]
     },
     "metadata": {},
     "output_type": "display_data"
    },
    {
     "data": {
      "text/html": [
       "<style>\n",
       "    table.wandb td:nth-child(1) { padding: 0 10px; text-align: left ; width: auto;} td:nth-child(2) {text-align: left ; width: 100%}\n",
       "    .wandb-row { display: flex; flex-direction: row; flex-wrap: wrap; justify-content: flex-start; width: 100% }\n",
       "    .wandb-col { display: flex; flex-direction: column; flex-basis: 100%; flex: 1; padding: 10px; }\n",
       "    </style>\n",
       "<div class=\"wandb-row\"><div class=\"wandb-col\"><h3>Run history:</h3><br/><table class=\"wandb\"><tr><td>best_val_loss</td><td>█▆▄▃▁▁</td></tr><tr><td>evaluation_error</td><td>▁</td></tr><tr><td>train_loss</td><td>▄▅▂▅▅▁▆▂▆▄▂▇▂▅▃▆▃▇▅▂▅▄▃▄█▁▁▄▆▇▂▂▇▄▄▅▆▄▃▆</td></tr><tr><td>trained_epochs</td><td>▁</td></tr><tr><td>val_loss</td><td>▅▄▅▆▄▃▂▅▇▇▄▅▄▄▇▄▄▂▁▅▅▄▄▃▃▅▅▃▅▅█▄▂▃▅█▃▅▃▅</td></tr></table><br/></div><div class=\"wandb-col\"><h3>Run summary:</h3><br/><table class=\"wandb\"><tr><td>best_val_loss</td><td>7.94116</td></tr><tr><td>evaluation_error</td><td>7.9122</td></tr><tr><td>train_loss</td><td>7.9391</td></tr><tr><td>trained_epochs</td><td>21</td></tr><tr><td>val_loss</td><td>7.94209</td></tr></table><br/></div></div>"
      ],
      "text/plain": [
       "<IPython.core.display.HTML object>"
      ]
     },
     "metadata": {},
     "output_type": "display_data"
    },
    {
     "data": {
      "text/html": [
       " View run <strong style=\"color:#cdcd00\">fast-sweep-1</strong> at: <a href='https://wandb.ai/feik/GNNPP/runs/gqv1y7v4' target=\"_blank\">https://wandb.ai/feik/GNNPP/runs/gqv1y7v4</a><br/>Synced 7 W&B file(s), 0 media file(s), 1 artifact file(s) and 0 other file(s)"
      ],
      "text/plain": [
       "<IPython.core.display.HTML object>"
      ]
     },
     "metadata": {},
     "output_type": "display_data"
    },
    {
     "data": {
      "text/html": [
       "Find logs at: <code>.\\wandb\\run-20230602_215952-gqv1y7v4\\logs</code>"
      ],
      "text/plain": [
       "<IPython.core.display.HTML object>"
      ]
     },
     "metadata": {},
     "output_type": "display_data"
    },
    {
     "name": "stderr",
     "output_type": "stream",
     "text": [
      "\u001b[34m\u001b[1mwandb\u001b[0m: Agent Starting Run: bdmfjhx1 with config:\n",
      "\u001b[34m\u001b[1mwandb\u001b[0m: \tbatch_size: 8\n",
      "\u001b[34m\u001b[1mwandb\u001b[0m: \tembed_dim: 2\n",
      "\u001b[34m\u001b[1mwandb\u001b[0m: \theads: 1\n",
      "\u001b[34m\u001b[1mwandb\u001b[0m: \thidden_channels: 1\n",
      "\u001b[34m\u001b[1mwandb\u001b[0m: \tlearning_rate: 0.002\n",
      "\u001b[34m\u001b[1mwandb\u001b[0m: \tmax_dist: 25\n",
      "\u001b[34m\u001b[1mwandb\u001b[0m: \tmax_epochs: 150\n",
      "\u001b[34m\u001b[1mwandb\u001b[0m: \tnum_layers: 1\n",
      "\u001b[34m\u001b[1mwandb\u001b[0m: \tpatience: 25\n",
      "\u001b[34m\u001b[1mwandb\u001b[0m: \ttype: ResGNNv2\n"
     ]
    },
    {
     "data": {
      "text/html": [
       "Tracking run with wandb version 0.15.3"
      ],
      "text/plain": [
       "<IPython.core.display.HTML object>"
      ]
     },
     "metadata": {},
     "output_type": "display_data"
    },
    {
     "data": {
      "text/html": [
       "Run data is saved locally in <code>c:\\Users\\morit\\GNNPP\\gnn\\wandb\\run-20230602_220232-bdmfjhx1</code>"
      ],
      "text/plain": [
       "<IPython.core.display.HTML object>"
      ]
     },
     "metadata": {},
     "output_type": "display_data"
    },
    {
     "data": {
      "text/html": [
       "Syncing run <strong><a href='https://wandb.ai/feik/GNNPP/runs/bdmfjhx1' target=\"_blank\">icy-sweep-2</a></strong> to <a href='https://wandb.ai/feik/GNNPP' target=\"_blank\">Weights & Biases</a> (<a href='https://wandb.me/run' target=\"_blank\">docs</a>)<br/>Sweep page: <a href='https://wandb.ai/feik/GNNPP/sweeps/fo6141n7' target=\"_blank\">https://wandb.ai/feik/GNNPP/sweeps/fo6141n7</a>"
      ],
      "text/plain": [
       "<IPython.core.display.HTML object>"
      ]
     },
     "metadata": {},
     "output_type": "display_data"
    },
    {
     "data": {
      "text/html": [
       " View project at <a href='https://wandb.ai/feik/GNNPP' target=\"_blank\">https://wandb.ai/feik/GNNPP</a>"
      ],
      "text/plain": [
       "<IPython.core.display.HTML object>"
      ]
     },
     "metadata": {},
     "output_type": "display_data"
    },
    {
     "data": {
      "text/html": [
       " View sweep at <a href='https://wandb.ai/feik/GNNPP/sweeps/fo6141n7' target=\"_blank\">https://wandb.ai/feik/GNNPP/sweeps/fo6141n7</a>"
      ],
      "text/plain": [
       "<IPython.core.display.HTML object>"
      ]
     },
     "metadata": {},
     "output_type": "display_data"
    },
    {
     "data": {
      "text/html": [
       " View run at <a href='https://wandb.ai/feik/GNNPP/runs/bdmfjhx1' target=\"_blank\">https://wandb.ai/feik/GNNPP/runs/bdmfjhx1</a>"
      ],
      "text/plain": [
       "<IPython.core.display.HTML object>"
      ]
     },
     "metadata": {},
     "output_type": "display_data"
    },
    {
     "name": "stderr",
     "output_type": "stream",
     "text": [
      "Building dataset: 100%|██████████| 3530/3530 [00:27<00:00, 130.48it/s]\n",
      "Epochs: 100%|██████████| 150/150 [06:18<00:00,  2.52s/it, Train Loss=5.11, Val Loss=5.07, Best Loss=5.07, No Improvement=17]\n"
     ]
    },
    {
     "data": {
      "text/html": [
       "Waiting for W&B process to finish... <strong style=\"color:green\">(success).</strong>"
      ],
      "text/plain": [
       "<IPython.core.display.HTML object>"
      ]
     },
     "metadata": {},
     "output_type": "display_data"
    },
    {
     "data": {
      "text/html": [
       "<style>\n",
       "    table.wandb td:nth-child(1) { padding: 0 10px; text-align: left ; width: auto;} td:nth-child(2) {text-align: left ; width: 100%}\n",
       "    .wandb-row { display: flex; flex-direction: row; flex-wrap: wrap; justify-content: flex-start; width: 100% }\n",
       "    .wandb-col { display: flex; flex-direction: column; flex-basis: 100%; flex: 1; padding: 10px; }\n",
       "    </style>\n",
       "<div class=\"wandb-row\"><div class=\"wandb-col\"><h3>Run history:</h3><br/><table class=\"wandb\"><tr><td>best_val_loss</td><td>█▆▁▁▁▁▁▁▁▁▁▁▁▁▁▁▁▁▁▁▁▁▁▁▁▁▁▁▁▁▁▁▁▁▁▁▁▁▁▁</td></tr><tr><td>evaluation_error</td><td>▁</td></tr><tr><td>train_loss</td><td>█▁▁▁▁▁▁▁▁▁▁▁▁▁▁▁▁▁▁▁▁▁▁▁▁▁▁▁▁▁▁▁▁▁▁▁▁▁▁▁</td></tr><tr><td>trained_epochs</td><td>▁</td></tr><tr><td>val_loss</td><td>█▁▁▁▁▁▁▁▁▁▁▁▁▁▁▁▁▁▁▁▁▁▁▁▁▁▁▁▁▁▁▁▁▁▁▁▁▁▁▁</td></tr></table><br/></div><div class=\"wandb-col\"><h3>Run summary:</h3><br/><table class=\"wandb\"><tr><td>best_val_loss</td><td>5.07052</td></tr><tr><td>evaluation_error</td><td>5.06037</td></tr><tr><td>train_loss</td><td>5.11114</td></tr><tr><td>trained_epochs</td><td>124</td></tr><tr><td>val_loss</td><td>5.07147</td></tr></table><br/></div></div>"
      ],
      "text/plain": [
       "<IPython.core.display.HTML object>"
      ]
     },
     "metadata": {},
     "output_type": "display_data"
    },
    {
     "data": {
      "text/html": [
       " View run <strong style=\"color:#cdcd00\">icy-sweep-2</strong> at: <a href='https://wandb.ai/feik/GNNPP/runs/bdmfjhx1' target=\"_blank\">https://wandb.ai/feik/GNNPP/runs/bdmfjhx1</a><br/>Synced 7 W&B file(s), 0 media file(s), 0 artifact file(s) and 0 other file(s)"
      ],
      "text/plain": [
       "<IPython.core.display.HTML object>"
      ]
     },
     "metadata": {},
     "output_type": "display_data"
    },
    {
     "data": {
      "text/html": [
       "Find logs at: <code>.\\wandb\\run-20230602_220232-bdmfjhx1\\logs</code>"
      ],
      "text/plain": [
       "<IPython.core.display.HTML object>"
      ]
     },
     "metadata": {},
     "output_type": "display_data"
    },
    {
     "name": "stderr",
     "output_type": "stream",
     "text": [
      "\u001b[34m\u001b[1mwandb\u001b[0m: Agent Starting Run: eryf64j5 with config:\n",
      "\u001b[34m\u001b[1mwandb\u001b[0m: \tbatch_size: 8\n",
      "\u001b[34m\u001b[1mwandb\u001b[0m: \tembed_dim: 2\n",
      "\u001b[34m\u001b[1mwandb\u001b[0m: \theads: 1\n",
      "\u001b[34m\u001b[1mwandb\u001b[0m: \thidden_channels: 1\n",
      "\u001b[34m\u001b[1mwandb\u001b[0m: \tlearning_rate: 0.002\n",
      "\u001b[34m\u001b[1mwandb\u001b[0m: \tmax_dist: 25\n",
      "\u001b[34m\u001b[1mwandb\u001b[0m: \tmax_epochs: 150\n",
      "\u001b[34m\u001b[1mwandb\u001b[0m: \tnum_layers: 2\n",
      "\u001b[34m\u001b[1mwandb\u001b[0m: \tpatience: 25\n",
      "\u001b[34m\u001b[1mwandb\u001b[0m: \ttype: GATConvv2\n"
     ]
    },
    {
     "data": {
      "text/html": [
       "Tracking run with wandb version 0.15.3"
      ],
      "text/plain": [
       "<IPython.core.display.HTML object>"
      ]
     },
     "metadata": {},
     "output_type": "display_data"
    },
    {
     "data": {
      "text/html": [
       "Run data is saved locally in <code>c:\\Users\\morit\\GNNPP\\gnn\\wandb\\run-20230602_220937-eryf64j5</code>"
      ],
      "text/plain": [
       "<IPython.core.display.HTML object>"
      ]
     },
     "metadata": {},
     "output_type": "display_data"
    },
    {
     "data": {
      "text/html": [
       "Syncing run <strong><a href='https://wandb.ai/feik/GNNPP/runs/eryf64j5' target=\"_blank\">leafy-sweep-3</a></strong> to <a href='https://wandb.ai/feik/GNNPP' target=\"_blank\">Weights & Biases</a> (<a href='https://wandb.me/run' target=\"_blank\">docs</a>)<br/>Sweep page: <a href='https://wandb.ai/feik/GNNPP/sweeps/fo6141n7' target=\"_blank\">https://wandb.ai/feik/GNNPP/sweeps/fo6141n7</a>"
      ],
      "text/plain": [
       "<IPython.core.display.HTML object>"
      ]
     },
     "metadata": {},
     "output_type": "display_data"
    },
    {
     "data": {
      "text/html": [
       " View project at <a href='https://wandb.ai/feik/GNNPP' target=\"_blank\">https://wandb.ai/feik/GNNPP</a>"
      ],
      "text/plain": [
       "<IPython.core.display.HTML object>"
      ]
     },
     "metadata": {},
     "output_type": "display_data"
    },
    {
     "data": {
      "text/html": [
       " View sweep at <a href='https://wandb.ai/feik/GNNPP/sweeps/fo6141n7' target=\"_blank\">https://wandb.ai/feik/GNNPP/sweeps/fo6141n7</a>"
      ],
      "text/plain": [
       "<IPython.core.display.HTML object>"
      ]
     },
     "metadata": {},
     "output_type": "display_data"
    },
    {
     "data": {
      "text/html": [
       " View run at <a href='https://wandb.ai/feik/GNNPP/runs/eryf64j5' target=\"_blank\">https://wandb.ai/feik/GNNPP/runs/eryf64j5</a>"
      ],
      "text/plain": [
       "<IPython.core.display.HTML object>"
      ]
     },
     "metadata": {},
     "output_type": "display_data"
    },
    {
     "name": "stderr",
     "output_type": "stream",
     "text": [
      "Building dataset: 100%|██████████| 3530/3530 [00:27<00:00, 130.71it/s]\n",
      "Epochs:  49%|████▉     | 74/150 [04:07<04:14,  3.35s/it, Train Loss=5.12, Val Loss=5.08, Best Loss=5.08, No Improvement=25]\n"
     ]
    },
    {
     "name": "stdout",
     "output_type": "stream",
     "text": [
      "Early stopping.\n"
     ]
    },
    {
     "data": {
      "text/html": [
       "Waiting for W&B process to finish... <strong style=\"color:green\">(success).</strong>"
      ],
      "text/plain": [
       "<IPython.core.display.HTML object>"
      ]
     },
     "metadata": {},
     "output_type": "display_data"
    },
    {
     "data": {
      "application/vnd.jupyter.widget-view+json": {
       "model_id": "5883c3637e264be692f0356734cff99c",
       "version_major": 2,
       "version_minor": 0
      },
      "text/plain": [
       "VBox(children=(Label(value='0.021 MB of 0.021 MB uploaded (0.000 MB deduped)\\r'), FloatProgress(value=1.0, max…"
      ]
     },
     "metadata": {},
     "output_type": "display_data"
    },
    {
     "data": {
      "text/html": [
       "<style>\n",
       "    table.wandb td:nth-child(1) { padding: 0 10px; text-align: left ; width: auto;} td:nth-child(2) {text-align: left ; width: 100%}\n",
       "    .wandb-row { display: flex; flex-direction: row; flex-wrap: wrap; justify-content: flex-start; width: 100% }\n",
       "    .wandb-col { display: flex; flex-direction: column; flex-basis: 100%; flex: 1; padding: 10px; }\n",
       "    </style>\n",
       "<div class=\"wandb-row\"><div class=\"wandb-col\"><h3>Run history:</h3><br/><table class=\"wandb\"><tr><td>best_val_loss</td><td>█▂▂▁▁▁▁▁▁▁▁▁▁▁▁▁▁▁▁▁▁▁▁▁▁▁</td></tr><tr><td>evaluation_error</td><td>▁</td></tr><tr><td>train_loss</td><td>█▂▁▁▁▁▁▁▁▁▁▁▁▁▁▁▁▁▁▁▁▁▁▁▁▁▁▁▁▁▁▁▁▁▁▁▁▁▁▁</td></tr><tr><td>trained_epochs</td><td>▁</td></tr><tr><td>val_loss</td><td>█▂▁▁▁▁▁▁▁▁▁▁▁▁▁▁▁▁▁▁▁▁▁▁▁▁▁▁▁▁▁▁▁▁▁▁▁▁▁▁</td></tr></table><br/></div><div class=\"wandb-col\"><h3>Run summary:</h3><br/><table class=\"wandb\"><tr><td>best_val_loss</td><td>5.0755</td></tr><tr><td>evaluation_error</td><td>5.06235</td></tr><tr><td>train_loss</td><td>5.11525</td></tr><tr><td>trained_epochs</td><td>49</td></tr><tr><td>val_loss</td><td>5.07709</td></tr></table><br/></div></div>"
      ],
      "text/plain": [
       "<IPython.core.display.HTML object>"
      ]
     },
     "metadata": {},
     "output_type": "display_data"
    },
    {
     "data": {
      "text/html": [
       " View run <strong style=\"color:#cdcd00\">leafy-sweep-3</strong> at: <a href='https://wandb.ai/feik/GNNPP/runs/eryf64j5' target=\"_blank\">https://wandb.ai/feik/GNNPP/runs/eryf64j5</a><br/>Synced 7 W&B file(s), 0 media file(s), 0 artifact file(s) and 0 other file(s)"
      ],
      "text/plain": [
       "<IPython.core.display.HTML object>"
      ]
     },
     "metadata": {},
     "output_type": "display_data"
    },
    {
     "data": {
      "text/html": [
       "Find logs at: <code>.\\wandb\\run-20230602_220937-eryf64j5\\logs</code>"
      ],
      "text/plain": [
       "<IPython.core.display.HTML object>"
      ]
     },
     "metadata": {},
     "output_type": "display_data"
    },
    {
     "name": "stderr",
     "output_type": "stream",
     "text": [
      "\u001b[34m\u001b[1mwandb\u001b[0m: Agent Starting Run: f2y6li2f with config:\n",
      "\u001b[34m\u001b[1mwandb\u001b[0m: \tbatch_size: 8\n",
      "\u001b[34m\u001b[1mwandb\u001b[0m: \tembed_dim: 2\n",
      "\u001b[34m\u001b[1mwandb\u001b[0m: \theads: 1\n",
      "\u001b[34m\u001b[1mwandb\u001b[0m: \thidden_channels: 1\n",
      "\u001b[34m\u001b[1mwandb\u001b[0m: \tlearning_rate: 0.002\n",
      "\u001b[34m\u001b[1mwandb\u001b[0m: \tmax_dist: 25\n",
      "\u001b[34m\u001b[1mwandb\u001b[0m: \tmax_epochs: 150\n",
      "\u001b[34m\u001b[1mwandb\u001b[0m: \tnum_layers: 2\n",
      "\u001b[34m\u001b[1mwandb\u001b[0m: \tpatience: 25\n",
      "\u001b[34m\u001b[1mwandb\u001b[0m: \ttype: ResGNNv2\n"
     ]
    },
    {
     "data": {
      "text/html": [
       "Tracking run with wandb version 0.15.3"
      ],
      "text/plain": [
       "<IPython.core.display.HTML object>"
      ]
     },
     "metadata": {},
     "output_type": "display_data"
    },
    {
     "data": {
      "text/html": [
       "Run data is saved locally in <code>c:\\Users\\morit\\GNNPP\\gnn\\wandb\\run-20230602_221426-f2y6li2f</code>"
      ],
      "text/plain": [
       "<IPython.core.display.HTML object>"
      ]
     },
     "metadata": {},
     "output_type": "display_data"
    },
    {
     "data": {
      "text/html": [
       "Syncing run <strong><a href='https://wandb.ai/feik/GNNPP/runs/f2y6li2f' target=\"_blank\">sweet-sweep-4</a></strong> to <a href='https://wandb.ai/feik/GNNPP' target=\"_blank\">Weights & Biases</a> (<a href='https://wandb.me/run' target=\"_blank\">docs</a>)<br/>Sweep page: <a href='https://wandb.ai/feik/GNNPP/sweeps/fo6141n7' target=\"_blank\">https://wandb.ai/feik/GNNPP/sweeps/fo6141n7</a>"
      ],
      "text/plain": [
       "<IPython.core.display.HTML object>"
      ]
     },
     "metadata": {},
     "output_type": "display_data"
    },
    {
     "data": {
      "text/html": [
       " View project at <a href='https://wandb.ai/feik/GNNPP' target=\"_blank\">https://wandb.ai/feik/GNNPP</a>"
      ],
      "text/plain": [
       "<IPython.core.display.HTML object>"
      ]
     },
     "metadata": {},
     "output_type": "display_data"
    },
    {
     "data": {
      "text/html": [
       " View sweep at <a href='https://wandb.ai/feik/GNNPP/sweeps/fo6141n7' target=\"_blank\">https://wandb.ai/feik/GNNPP/sweeps/fo6141n7</a>"
      ],
      "text/plain": [
       "<IPython.core.display.HTML object>"
      ]
     },
     "metadata": {},
     "output_type": "display_data"
    },
    {
     "data": {
      "text/html": [
       " View run at <a href='https://wandb.ai/feik/GNNPP/runs/f2y6li2f' target=\"_blank\">https://wandb.ai/feik/GNNPP/runs/f2y6li2f</a>"
      ],
      "text/plain": [
       "<IPython.core.display.HTML object>"
      ]
     },
     "metadata": {},
     "output_type": "display_data"
    },
    {
     "name": "stderr",
     "output_type": "stream",
     "text": [
      "Building dataset: 100%|██████████| 3530/3530 [00:27<00:00, 130.12it/s]\n",
      "Epochs:  85%|████████▌ | 128/150 [07:18<01:15,  3.43s/it, Train Loss=1.19, Val Loss=1.01, Best Loss=1.01, No Improvement=25]\n"
     ]
    },
    {
     "name": "stdout",
     "output_type": "stream",
     "text": [
      "Early stopping.\n"
     ]
    },
    {
     "data": {
      "text/html": [
       "Waiting for W&B process to finish... <strong style=\"color:green\">(success).</strong>"
      ],
      "text/plain": [
       "<IPython.core.display.HTML object>"
      ]
     },
     "metadata": {},
     "output_type": "display_data"
    },
    {
     "data": {
      "text/html": [
       "<style>\n",
       "    table.wandb td:nth-child(1) { padding: 0 10px; text-align: left ; width: auto;} td:nth-child(2) {text-align: left ; width: 100%}\n",
       "    .wandb-row { display: flex; flex-direction: row; flex-wrap: wrap; justify-content: flex-start; width: 100% }\n",
       "    .wandb-col { display: flex; flex-direction: column; flex-basis: 100%; flex: 1; padding: 10px; }\n",
       "    </style>\n",
       "<div class=\"wandb-row\"><div class=\"wandb-col\"><h3>Run history:</h3><br/><table class=\"wandb\"><tr><td>best_val_loss</td><td>█▂▂▂▁▁▁▁▁▁▁▁▁▁▁▁▁▁▁▁▁▁▁▁▁▁▁▁▁▁▁▁▁▁▁▁</td></tr><tr><td>evaluation_error</td><td>▁</td></tr><tr><td>train_loss</td><td>█▂▂▂▁▁▁▁▁▁▁▁▁▁▁▁▁▁▁▁▁▁▁▁▁▁▁▁▁▁▁▁▁▁▁▁▁▁▁▁</td></tr><tr><td>trained_epochs</td><td>▁</td></tr><tr><td>val_loss</td><td>█▄▃▃▂▂▂▁▁▁▁▁▁▁▁▁▁▁▁▁▁▁▁▁▁▁▁▁▁▁▁▁▁▁▁▁▁▁▁▁</td></tr></table><br/></div><div class=\"wandb-col\"><h3>Run summary:</h3><br/><table class=\"wandb\"><tr><td>best_val_loss</td><td>1.00643</td></tr><tr><td>evaluation_error</td><td>1.03008</td></tr><tr><td>train_loss</td><td>1.18591</td></tr><tr><td>trained_epochs</td><td>103</td></tr><tr><td>val_loss</td><td>1.00947</td></tr></table><br/></div></div>"
      ],
      "text/plain": [
       "<IPython.core.display.HTML object>"
      ]
     },
     "metadata": {},
     "output_type": "display_data"
    },
    {
     "data": {
      "text/html": [
       " View run <strong style=\"color:#cdcd00\">sweet-sweep-4</strong> at: <a href='https://wandb.ai/feik/GNNPP/runs/f2y6li2f' target=\"_blank\">https://wandb.ai/feik/GNNPP/runs/f2y6li2f</a><br/>Synced 7 W&B file(s), 0 media file(s), 0 artifact file(s) and 0 other file(s)"
      ],
      "text/plain": [
       "<IPython.core.display.HTML object>"
      ]
     },
     "metadata": {},
     "output_type": "display_data"
    },
    {
     "data": {
      "text/html": [
       "Find logs at: <code>.\\wandb\\run-20230602_221426-f2y6li2f\\logs</code>"
      ],
      "text/plain": [
       "<IPython.core.display.HTML object>"
      ]
     },
     "metadata": {},
     "output_type": "display_data"
    },
    {
     "name": "stderr",
     "output_type": "stream",
     "text": [
      "\u001b[34m\u001b[1mwandb\u001b[0m: Agent Starting Run: k25cmsuj with config:\n",
      "\u001b[34m\u001b[1mwandb\u001b[0m: \tbatch_size: 8\n",
      "\u001b[34m\u001b[1mwandb\u001b[0m: \tembed_dim: 2\n",
      "\u001b[34m\u001b[1mwandb\u001b[0m: \theads: 1\n",
      "\u001b[34m\u001b[1mwandb\u001b[0m: \thidden_channels: 1\n",
      "\u001b[34m\u001b[1mwandb\u001b[0m: \tlearning_rate: 0.002\n",
      "\u001b[34m\u001b[1mwandb\u001b[0m: \tmax_dist: 25\n",
      "\u001b[34m\u001b[1mwandb\u001b[0m: \tmax_epochs: 150\n",
      "\u001b[34m\u001b[1mwandb\u001b[0m: \tnum_layers: 3\n",
      "\u001b[34m\u001b[1mwandb\u001b[0m: \tpatience: 25\n",
      "\u001b[34m\u001b[1mwandb\u001b[0m: \ttype: GATConvv2\n"
     ]
    },
    {
     "data": {
      "text/html": [
       "Tracking run with wandb version 0.15.3"
      ],
      "text/plain": [
       "<IPython.core.display.HTML object>"
      ]
     },
     "metadata": {},
     "output_type": "display_data"
    },
    {
     "data": {
      "text/html": [
       "Run data is saved locally in <code>c:\\Users\\morit\\GNNPP\\gnn\\wandb\\run-20230602_222232-k25cmsuj</code>"
      ],
      "text/plain": [
       "<IPython.core.display.HTML object>"
      ]
     },
     "metadata": {},
     "output_type": "display_data"
    },
    {
     "data": {
      "text/html": [
       "Syncing run <strong><a href='https://wandb.ai/feik/GNNPP/runs/k25cmsuj' target=\"_blank\">gentle-sweep-5</a></strong> to <a href='https://wandb.ai/feik/GNNPP' target=\"_blank\">Weights & Biases</a> (<a href='https://wandb.me/run' target=\"_blank\">docs</a>)<br/>Sweep page: <a href='https://wandb.ai/feik/GNNPP/sweeps/fo6141n7' target=\"_blank\">https://wandb.ai/feik/GNNPP/sweeps/fo6141n7</a>"
      ],
      "text/plain": [
       "<IPython.core.display.HTML object>"
      ]
     },
     "metadata": {},
     "output_type": "display_data"
    },
    {
     "data": {
      "text/html": [
       " View project at <a href='https://wandb.ai/feik/GNNPP' target=\"_blank\">https://wandb.ai/feik/GNNPP</a>"
      ],
      "text/plain": [
       "<IPython.core.display.HTML object>"
      ]
     },
     "metadata": {},
     "output_type": "display_data"
    },
    {
     "data": {
      "text/html": [
       " View sweep at <a href='https://wandb.ai/feik/GNNPP/sweeps/fo6141n7' target=\"_blank\">https://wandb.ai/feik/GNNPP/sweeps/fo6141n7</a>"
      ],
      "text/plain": [
       "<IPython.core.display.HTML object>"
      ]
     },
     "metadata": {},
     "output_type": "display_data"
    },
    {
     "data": {
      "text/html": [
       " View run at <a href='https://wandb.ai/feik/GNNPP/runs/k25cmsuj' target=\"_blank\">https://wandb.ai/feik/GNNPP/runs/k25cmsuj</a>"
      ],
      "text/plain": [
       "<IPython.core.display.HTML object>"
      ]
     },
     "metadata": {},
     "output_type": "display_data"
    },
    {
     "name": "stderr",
     "output_type": "stream",
     "text": [
      "Building dataset: 100%|██████████| 3530/3530 [00:27<00:00, 127.73it/s]\n",
      "Epochs:  47%|████▋     | 71/150 [04:58<05:31,  4.20s/it, Train Loss=7.94, Val Loss=7.94, Best Loss=7.94, No Improvement=25]\n"
     ]
    },
    {
     "name": "stdout",
     "output_type": "stream",
     "text": [
      "Early stopping.\n"
     ]
    },
    {
     "data": {
      "text/html": [
       "Waiting for W&B process to finish... <strong style=\"color:green\">(success).</strong>"
      ],
      "text/plain": [
       "<IPython.core.display.HTML object>"
      ]
     },
     "metadata": {},
     "output_type": "display_data"
    },
    {
     "data": {
      "text/html": [
       "<style>\n",
       "    table.wandb td:nth-child(1) { padding: 0 10px; text-align: left ; width: auto;} td:nth-child(2) {text-align: left ; width: 100%}\n",
       "    .wandb-row { display: flex; flex-direction: row; flex-wrap: wrap; justify-content: flex-start; width: 100% }\n",
       "    .wandb-col { display: flex; flex-direction: column; flex-basis: 100%; flex: 1; padding: 10px; }\n",
       "    </style>\n",
       "<div class=\"wandb-row\"><div class=\"wandb-col\"><h3>Run history:</h3><br/><table class=\"wandb\"><tr><td>best_val_loss</td><td>█▃▃▁▁▁</td></tr><tr><td>evaluation_error</td><td>▁</td></tr><tr><td>train_loss</td><td>▅▂▅▄▄▅▃▃▄▁▃▂▄▄▄▂▄▄▂▇▆▅▂▅▄▄█▅▂▂▅▆▃▄▁▆▄▄▃▅</td></tr><tr><td>trained_epochs</td><td>▁</td></tr><tr><td>val_loss</td><td>▅▂▃▆▃▄▅▄▅▅▂▂▇▅▄▄▅▁▄▅▃▁█▃▇▅▄▂▅▇▃▃▄█▄▅▅▆▃▂</td></tr></table><br/></div><div class=\"wandb-col\"><h3>Run summary:</h3><br/><table class=\"wandb\"><tr><td>best_val_loss</td><td>7.94112</td></tr><tr><td>evaluation_error</td><td>7.91185</td></tr><tr><td>train_loss</td><td>7.9392</td></tr><tr><td>trained_epochs</td><td>46</td></tr><tr><td>val_loss</td><td>7.94137</td></tr></table><br/></div></div>"
      ],
      "text/plain": [
       "<IPython.core.display.HTML object>"
      ]
     },
     "metadata": {},
     "output_type": "display_data"
    },
    {
     "data": {
      "text/html": [
       " View run <strong style=\"color:#cdcd00\">gentle-sweep-5</strong> at: <a href='https://wandb.ai/feik/GNNPP/runs/k25cmsuj' target=\"_blank\">https://wandb.ai/feik/GNNPP/runs/k25cmsuj</a><br/>Synced 7 W&B file(s), 0 media file(s), 0 artifact file(s) and 0 other file(s)"
      ],
      "text/plain": [
       "<IPython.core.display.HTML object>"
      ]
     },
     "metadata": {},
     "output_type": "display_data"
    },
    {
     "data": {
      "text/html": [
       "Find logs at: <code>.\\wandb\\run-20230602_222232-k25cmsuj\\logs</code>"
      ],
      "text/plain": [
       "<IPython.core.display.HTML object>"
      ]
     },
     "metadata": {},
     "output_type": "display_data"
    },
    {
     "name": "stderr",
     "output_type": "stream",
     "text": [
      "\u001b[34m\u001b[1mwandb\u001b[0m: Agent Starting Run: cfd6gg8q with config:\n",
      "\u001b[34m\u001b[1mwandb\u001b[0m: \tbatch_size: 8\n",
      "\u001b[34m\u001b[1mwandb\u001b[0m: \tembed_dim: 2\n",
      "\u001b[34m\u001b[1mwandb\u001b[0m: \theads: 1\n",
      "\u001b[34m\u001b[1mwandb\u001b[0m: \thidden_channels: 1\n",
      "\u001b[34m\u001b[1mwandb\u001b[0m: \tlearning_rate: 0.002\n",
      "\u001b[34m\u001b[1mwandb\u001b[0m: \tmax_dist: 25\n",
      "\u001b[34m\u001b[1mwandb\u001b[0m: \tmax_epochs: 150\n",
      "\u001b[34m\u001b[1mwandb\u001b[0m: \tnum_layers: 3\n",
      "\u001b[34m\u001b[1mwandb\u001b[0m: \tpatience: 25\n",
      "\u001b[34m\u001b[1mwandb\u001b[0m: \ttype: ResGNNv2\n"
     ]
    },
    {
     "data": {
      "text/html": [
       "Tracking run with wandb version 0.15.3"
      ],
      "text/plain": [
       "<IPython.core.display.HTML object>"
      ]
     },
     "metadata": {},
     "output_type": "display_data"
    },
    {
     "data": {
      "text/html": [
       "Run data is saved locally in <code>c:\\Users\\morit\\GNNPP\\gnn\\wandb\\run-20230602_222815-cfd6gg8q</code>"
      ],
      "text/plain": [
       "<IPython.core.display.HTML object>"
      ]
     },
     "metadata": {},
     "output_type": "display_data"
    },
    {
     "data": {
      "text/html": [
       "Syncing run <strong><a href='https://wandb.ai/feik/GNNPP/runs/cfd6gg8q' target=\"_blank\">copper-sweep-6</a></strong> to <a href='https://wandb.ai/feik/GNNPP' target=\"_blank\">Weights & Biases</a> (<a href='https://wandb.me/run' target=\"_blank\">docs</a>)<br/>Sweep page: <a href='https://wandb.ai/feik/GNNPP/sweeps/fo6141n7' target=\"_blank\">https://wandb.ai/feik/GNNPP/sweeps/fo6141n7</a>"
      ],
      "text/plain": [
       "<IPython.core.display.HTML object>"
      ]
     },
     "metadata": {},
     "output_type": "display_data"
    },
    {
     "data": {
      "text/html": [
       " View project at <a href='https://wandb.ai/feik/GNNPP' target=\"_blank\">https://wandb.ai/feik/GNNPP</a>"
      ],
      "text/plain": [
       "<IPython.core.display.HTML object>"
      ]
     },
     "metadata": {},
     "output_type": "display_data"
    },
    {
     "data": {
      "text/html": [
       " View sweep at <a href='https://wandb.ai/feik/GNNPP/sweeps/fo6141n7' target=\"_blank\">https://wandb.ai/feik/GNNPP/sweeps/fo6141n7</a>"
      ],
      "text/plain": [
       "<IPython.core.display.HTML object>"
      ]
     },
     "metadata": {},
     "output_type": "display_data"
    },
    {
     "data": {
      "text/html": [
       " View run at <a href='https://wandb.ai/feik/GNNPP/runs/cfd6gg8q' target=\"_blank\">https://wandb.ai/feik/GNNPP/runs/cfd6gg8q</a>"
      ],
      "text/plain": [
       "<IPython.core.display.HTML object>"
      ]
     },
     "metadata": {},
     "output_type": "display_data"
    },
    {
     "name": "stderr",
     "output_type": "stream",
     "text": [
      "Building dataset: 100%|██████████| 3530/3530 [00:27<00:00, 127.29it/s]\n",
      "Epochs:  99%|█████████▊| 148/150 [10:18<00:08,  4.18s/it, Train Loss=1.2, Val Loss=1.02, Best Loss=1.02, No Improvement=25] \n"
     ]
    },
    {
     "name": "stdout",
     "output_type": "stream",
     "text": [
      "Early stopping.\n"
     ]
    },
    {
     "data": {
      "text/html": [
       "Waiting for W&B process to finish... <strong style=\"color:green\">(success).</strong>"
      ],
      "text/plain": [
       "<IPython.core.display.HTML object>"
      ]
     },
     "metadata": {},
     "output_type": "display_data"
    },
    {
     "data": {
      "text/html": [
       "<style>\n",
       "    table.wandb td:nth-child(1) { padding: 0 10px; text-align: left ; width: auto;} td:nth-child(2) {text-align: left ; width: 100%}\n",
       "    .wandb-row { display: flex; flex-direction: row; flex-wrap: wrap; justify-content: flex-start; width: 100% }\n",
       "    .wandb-col { display: flex; flex-direction: column; flex-basis: 100%; flex: 1; padding: 10px; }\n",
       "    </style>\n",
       "<div class=\"wandb-row\"><div class=\"wandb-col\"><h3>Run history:</h3><br/><table class=\"wandb\"><tr><td>best_val_loss</td><td>█▃▂▁▁▁▁▁▁▁▁▁▁▁▁▁▁▁▁▁▁▁▁▁</td></tr><tr><td>evaluation_error</td><td>▁</td></tr><tr><td>train_loss</td><td>█▂▁▁▁▁▁▁▁▁▁▁▁▁▁▁▁▁▁▁▁▁▁▁▁▁▁▁▁▁▁▁▁▁▁▁▁▁▁▁</td></tr><tr><td>trained_epochs</td><td>▁</td></tr><tr><td>val_loss</td><td>█▂▂▁▁▁▂▁▂▁▁▁▁▁▁▁▁▁▁▁▁▁▁▁▁▁▁▁▁▁▁▁▁▁▁▁▁▁▁▁</td></tr></table><br/></div><div class=\"wandb-col\"><h3>Run summary:</h3><br/><table class=\"wandb\"><tr><td>best_val_loss</td><td>1.01813</td></tr><tr><td>evaluation_error</td><td>1.04498</td></tr><tr><td>train_loss</td><td>1.20341</td></tr><tr><td>trained_epochs</td><td>123</td></tr><tr><td>val_loss</td><td>1.02383</td></tr></table><br/></div></div>"
      ],
      "text/plain": [
       "<IPython.core.display.HTML object>"
      ]
     },
     "metadata": {},
     "output_type": "display_data"
    },
    {
     "data": {
      "text/html": [
       " View run <strong style=\"color:#cdcd00\">copper-sweep-6</strong> at: <a href='https://wandb.ai/feik/GNNPP/runs/cfd6gg8q' target=\"_blank\">https://wandb.ai/feik/GNNPP/runs/cfd6gg8q</a><br/>Synced 7 W&B file(s), 0 media file(s), 0 artifact file(s) and 0 other file(s)"
      ],
      "text/plain": [
       "<IPython.core.display.HTML object>"
      ]
     },
     "metadata": {},
     "output_type": "display_data"
    },
    {
     "data": {
      "text/html": [
       "Find logs at: <code>.\\wandb\\run-20230602_222815-cfd6gg8q\\logs</code>"
      ],
      "text/plain": [
       "<IPython.core.display.HTML object>"
      ]
     },
     "metadata": {},
     "output_type": "display_data"
    },
    {
     "name": "stderr",
     "output_type": "stream",
     "text": [
      "\u001b[34m\u001b[1mwandb\u001b[0m: Agent Starting Run: peoxrbht with config:\n",
      "\u001b[34m\u001b[1mwandb\u001b[0m: \tbatch_size: 8\n",
      "\u001b[34m\u001b[1mwandb\u001b[0m: \tembed_dim: 2\n",
      "\u001b[34m\u001b[1mwandb\u001b[0m: \theads: 1\n",
      "\u001b[34m\u001b[1mwandb\u001b[0m: \thidden_channels: 1\n",
      "\u001b[34m\u001b[1mwandb\u001b[0m: \tlearning_rate: 0.002\n",
      "\u001b[34m\u001b[1mwandb\u001b[0m: \tmax_dist: 25\n",
      "\u001b[34m\u001b[1mwandb\u001b[0m: \tmax_epochs: 150\n",
      "\u001b[34m\u001b[1mwandb\u001b[0m: \tnum_layers: 4\n",
      "\u001b[34m\u001b[1mwandb\u001b[0m: \tpatience: 25\n",
      "\u001b[34m\u001b[1mwandb\u001b[0m: \ttype: GATConvv2\n"
     ]
    },
    {
     "data": {
      "text/html": [
       "Tracking run with wandb version 0.15.3"
      ],
      "text/plain": [
       "<IPython.core.display.HTML object>"
      ]
     },
     "metadata": {},
     "output_type": "display_data"
    },
    {
     "data": {
      "text/html": [
       "Run data is saved locally in <code>c:\\Users\\morit\\GNNPP\\gnn\\wandb\\run-20230602_223920-peoxrbht</code>"
      ],
      "text/plain": [
       "<IPython.core.display.HTML object>"
      ]
     },
     "metadata": {},
     "output_type": "display_data"
    },
    {
     "data": {
      "text/html": [
       "Syncing run <strong><a href='https://wandb.ai/feik/GNNPP/runs/peoxrbht' target=\"_blank\">lunar-sweep-7</a></strong> to <a href='https://wandb.ai/feik/GNNPP' target=\"_blank\">Weights & Biases</a> (<a href='https://wandb.me/run' target=\"_blank\">docs</a>)<br/>Sweep page: <a href='https://wandb.ai/feik/GNNPP/sweeps/fo6141n7' target=\"_blank\">https://wandb.ai/feik/GNNPP/sweeps/fo6141n7</a>"
      ],
      "text/plain": [
       "<IPython.core.display.HTML object>"
      ]
     },
     "metadata": {},
     "output_type": "display_data"
    },
    {
     "data": {
      "text/html": [
       " View project at <a href='https://wandb.ai/feik/GNNPP' target=\"_blank\">https://wandb.ai/feik/GNNPP</a>"
      ],
      "text/plain": [
       "<IPython.core.display.HTML object>"
      ]
     },
     "metadata": {},
     "output_type": "display_data"
    },
    {
     "data": {
      "text/html": [
       " View sweep at <a href='https://wandb.ai/feik/GNNPP/sweeps/fo6141n7' target=\"_blank\">https://wandb.ai/feik/GNNPP/sweeps/fo6141n7</a>"
      ],
      "text/plain": [
       "<IPython.core.display.HTML object>"
      ]
     },
     "metadata": {},
     "output_type": "display_data"
    },
    {
     "data": {
      "text/html": [
       " View run at <a href='https://wandb.ai/feik/GNNPP/runs/peoxrbht' target=\"_blank\">https://wandb.ai/feik/GNNPP/runs/peoxrbht</a>"
      ],
      "text/plain": [
       "<IPython.core.display.HTML object>"
      ]
     },
     "metadata": {},
     "output_type": "display_data"
    },
    {
     "name": "stderr",
     "output_type": "stream",
     "text": [
      "Building dataset: 100%|██████████| 3530/3530 [00:27<00:00, 127.67it/s]\n",
      "Epochs:  29%|██▉       | 44/150 [03:39<08:48,  4.98s/it, Train Loss=7.94, Val Loss=7.94, Best Loss=7.94, No Improvement=25]\n"
     ]
    },
    {
     "name": "stdout",
     "output_type": "stream",
     "text": [
      "Early stopping.\n"
     ]
    },
    {
     "data": {
      "text/html": [
       "Waiting for W&B process to finish... <strong style=\"color:green\">(success).</strong>"
      ],
      "text/plain": [
       "<IPython.core.display.HTML object>"
      ]
     },
     "metadata": {},
     "output_type": "display_data"
    },
    {
     "data": {
      "application/vnd.jupyter.widget-view+json": {
       "model_id": "63fd8abb13af4c85bd1d9fa980be211f",
       "version_major": 2,
       "version_minor": 0
      },
      "text/plain": [
       "VBox(children=(Label(value='0.021 MB of 0.021 MB uploaded (0.000 MB deduped)\\r'), FloatProgress(value=1.0, max…"
      ]
     },
     "metadata": {},
     "output_type": "display_data"
    },
    {
     "data": {
      "text/html": [
       "<style>\n",
       "    table.wandb td:nth-child(1) { padding: 0 10px; text-align: left ; width: auto;} td:nth-child(2) {text-align: left ; width: 100%}\n",
       "    .wandb-row { display: flex; flex-direction: row; flex-wrap: wrap; justify-content: flex-start; width: 100% }\n",
       "    .wandb-col { display: flex; flex-direction: column; flex-basis: 100%; flex: 1; padding: 10px; }\n",
       "    </style>\n",
       "<div class=\"wandb-row\"><div class=\"wandb-col\"><h3>Run history:</h3><br/><table class=\"wandb\"><tr><td>best_val_loss</td><td>█▄▁▁▁</td></tr><tr><td>evaluation_error</td><td>▁</td></tr><tr><td>train_loss</td><td>▂▄▄▃▄▃█▃▄▄▅▄▂▄▄▇▄▅▄▃▁▄█▄▄▇▁█▁▄▂▄▅▃█▅▂▄▃▇</td></tr><tr><td>trained_epochs</td><td>▁</td></tr><tr><td>val_loss</td><td>▃▂▇▄▃▂▃▃▃▃▅▂▃▂▄▅▄▁▄▃▁▃▄▃▃▄▄█▄▆▅▄▃▅▃▅▁▄▂▃</td></tr></table><br/></div><div class=\"wandb-col\"><h3>Run summary:</h3><br/><table class=\"wandb\"><tr><td>best_val_loss</td><td>7.94121</td></tr><tr><td>evaluation_error</td><td>7.91187</td></tr><tr><td>train_loss</td><td>7.93955</td></tr><tr><td>trained_epochs</td><td>19</td></tr><tr><td>val_loss</td><td>7.94167</td></tr></table><br/></div></div>"
      ],
      "text/plain": [
       "<IPython.core.display.HTML object>"
      ]
     },
     "metadata": {},
     "output_type": "display_data"
    },
    {
     "data": {
      "text/html": [
       " View run <strong style=\"color:#cdcd00\">lunar-sweep-7</strong> at: <a href='https://wandb.ai/feik/GNNPP/runs/peoxrbht' target=\"_blank\">https://wandb.ai/feik/GNNPP/runs/peoxrbht</a><br/>Synced 7 W&B file(s), 0 media file(s), 0 artifact file(s) and 0 other file(s)"
      ],
      "text/plain": [
       "<IPython.core.display.HTML object>"
      ]
     },
     "metadata": {},
     "output_type": "display_data"
    },
    {
     "data": {
      "text/html": [
       "Find logs at: <code>.\\wandb\\run-20230602_223920-peoxrbht\\logs</code>"
      ],
      "text/plain": [
       "<IPython.core.display.HTML object>"
      ]
     },
     "metadata": {},
     "output_type": "display_data"
    },
    {
     "name": "stderr",
     "output_type": "stream",
     "text": [
      "\u001b[34m\u001b[1mwandb\u001b[0m: Agent Starting Run: vkthx6fn with config:\n",
      "\u001b[34m\u001b[1mwandb\u001b[0m: \tbatch_size: 8\n",
      "\u001b[34m\u001b[1mwandb\u001b[0m: \tembed_dim: 2\n",
      "\u001b[34m\u001b[1mwandb\u001b[0m: \theads: 1\n",
      "\u001b[34m\u001b[1mwandb\u001b[0m: \thidden_channels: 1\n",
      "\u001b[34m\u001b[1mwandb\u001b[0m: \tlearning_rate: 0.002\n",
      "\u001b[34m\u001b[1mwandb\u001b[0m: \tmax_dist: 25\n",
      "\u001b[34m\u001b[1mwandb\u001b[0m: \tmax_epochs: 150\n",
      "\u001b[34m\u001b[1mwandb\u001b[0m: \tnum_layers: 4\n",
      "\u001b[34m\u001b[1mwandb\u001b[0m: \tpatience: 25\n",
      "\u001b[34m\u001b[1mwandb\u001b[0m: \ttype: ResGNNv2\n"
     ]
    },
    {
     "data": {
      "text/html": [
       "Tracking run with wandb version 0.15.3"
      ],
      "text/plain": [
       "<IPython.core.display.HTML object>"
      ]
     },
     "metadata": {},
     "output_type": "display_data"
    },
    {
     "data": {
      "text/html": [
       "Run data is saved locally in <code>c:\\Users\\morit\\GNNPP\\gnn\\wandb\\run-20230602_224344-vkthx6fn</code>"
      ],
      "text/plain": [
       "<IPython.core.display.HTML object>"
      ]
     },
     "metadata": {},
     "output_type": "display_data"
    },
    {
     "data": {
      "text/html": [
       "Syncing run <strong><a href='https://wandb.ai/feik/GNNPP/runs/vkthx6fn' target=\"_blank\">treasured-sweep-8</a></strong> to <a href='https://wandb.ai/feik/GNNPP' target=\"_blank\">Weights & Biases</a> (<a href='https://wandb.me/run' target=\"_blank\">docs</a>)<br/>Sweep page: <a href='https://wandb.ai/feik/GNNPP/sweeps/fo6141n7' target=\"_blank\">https://wandb.ai/feik/GNNPP/sweeps/fo6141n7</a>"
      ],
      "text/plain": [
       "<IPython.core.display.HTML object>"
      ]
     },
     "metadata": {},
     "output_type": "display_data"
    },
    {
     "data": {
      "text/html": [
       " View project at <a href='https://wandb.ai/feik/GNNPP' target=\"_blank\">https://wandb.ai/feik/GNNPP</a>"
      ],
      "text/plain": [
       "<IPython.core.display.HTML object>"
      ]
     },
     "metadata": {},
     "output_type": "display_data"
    },
    {
     "data": {
      "text/html": [
       " View sweep at <a href='https://wandb.ai/feik/GNNPP/sweeps/fo6141n7' target=\"_blank\">https://wandb.ai/feik/GNNPP/sweeps/fo6141n7</a>"
      ],
      "text/plain": [
       "<IPython.core.display.HTML object>"
      ]
     },
     "metadata": {},
     "output_type": "display_data"
    },
    {
     "data": {
      "text/html": [
       " View run at <a href='https://wandb.ai/feik/GNNPP/runs/vkthx6fn' target=\"_blank\">https://wandb.ai/feik/GNNPP/runs/vkthx6fn</a>"
      ],
      "text/plain": [
       "<IPython.core.display.HTML object>"
      ]
     },
     "metadata": {},
     "output_type": "display_data"
    },
    {
     "name": "stderr",
     "output_type": "stream",
     "text": [
      "Building dataset: 100%|██████████| 3530/3530 [00:27<00:00, 127.88it/s]\n",
      "Epochs:  41%|████▏     | 62/150 [05:06<07:15,  4.94s/it, Train Loss=1.33, Val Loss=1.12, Best Loss=1.12, No Improvement=25]\n"
     ]
    },
    {
     "name": "stdout",
     "output_type": "stream",
     "text": [
      "Early stopping.\n"
     ]
    },
    {
     "data": {
      "text/html": [
       "Waiting for W&B process to finish... <strong style=\"color:green\">(success).</strong>"
      ],
      "text/plain": [
       "<IPython.core.display.HTML object>"
      ]
     },
     "metadata": {},
     "output_type": "display_data"
    },
    {
     "data": {
      "text/html": [
       "<style>\n",
       "    table.wandb td:nth-child(1) { padding: 0 10px; text-align: left ; width: auto;} td:nth-child(2) {text-align: left ; width: 100%}\n",
       "    .wandb-row { display: flex; flex-direction: row; flex-wrap: wrap; justify-content: flex-start; width: 100% }\n",
       "    .wandb-col { display: flex; flex-direction: column; flex-basis: 100%; flex: 1; padding: 10px; }\n",
       "    </style>\n",
       "<div class=\"wandb-row\"><div class=\"wandb-col\"><h3>Run history:</h3><br/><table class=\"wandb\"><tr><td>best_val_loss</td><td>█▃▂▂▁▁▁▁▁▁▁▁▁▁▁▁▁▁▁▁▁▁</td></tr><tr><td>evaluation_error</td><td>▁</td></tr><tr><td>train_loss</td><td>█▂▁▁▁▁▁▁▁▁▁▁▁▁▁▁▁▁▁▁▁▁▁▁▁▁▁▁▁▁▁▁▁▁▁▁▁▁▁▁</td></tr><tr><td>trained_epochs</td><td>▁</td></tr><tr><td>val_loss</td><td>█▃▂▁▁▁▁▁▁▁▁▁▁▁▁▁▁▁▁▁▁▁▁▁▁▁▁▁▁▁▁▁▁▁▁▁▁▁▁▁</td></tr></table><br/></div><div class=\"wandb-col\"><h3>Run summary:</h3><br/><table class=\"wandb\"><tr><td>best_val_loss</td><td>1.11572</td></tr><tr><td>evaluation_error</td><td>1.13958</td></tr><tr><td>train_loss</td><td>1.33356</td></tr><tr><td>trained_epochs</td><td>37</td></tr><tr><td>val_loss</td><td>1.12315</td></tr></table><br/></div></div>"
      ],
      "text/plain": [
       "<IPython.core.display.HTML object>"
      ]
     },
     "metadata": {},
     "output_type": "display_data"
    },
    {
     "data": {
      "text/html": [
       " View run <strong style=\"color:#cdcd00\">treasured-sweep-8</strong> at: <a href='https://wandb.ai/feik/GNNPP/runs/vkthx6fn' target=\"_blank\">https://wandb.ai/feik/GNNPP/runs/vkthx6fn</a><br/>Synced 7 W&B file(s), 0 media file(s), 0 artifact file(s) and 0 other file(s)"
      ],
      "text/plain": [
       "<IPython.core.display.HTML object>"
      ]
     },
     "metadata": {},
     "output_type": "display_data"
    },
    {
     "data": {
      "text/html": [
       "Find logs at: <code>.\\wandb\\run-20230602_224344-vkthx6fn\\logs</code>"
      ],
      "text/plain": [
       "<IPython.core.display.HTML object>"
      ]
     },
     "metadata": {},
     "output_type": "display_data"
    },
    {
     "name": "stderr",
     "output_type": "stream",
     "text": [
      "\u001b[34m\u001b[1mwandb\u001b[0m: Sweep Agent: Waiting for job.\n",
      "\u001b[34m\u001b[1mwandb\u001b[0m: Job received.\n",
      "\u001b[34m\u001b[1mwandb\u001b[0m: Agent Starting Run: 5xwae2dc with config:\n",
      "\u001b[34m\u001b[1mwandb\u001b[0m: \tbatch_size: 8\n",
      "\u001b[34m\u001b[1mwandb\u001b[0m: \tembed_dim: 2\n",
      "\u001b[34m\u001b[1mwandb\u001b[0m: \theads: 1\n",
      "\u001b[34m\u001b[1mwandb\u001b[0m: \thidden_channels: 1\n",
      "\u001b[34m\u001b[1mwandb\u001b[0m: \tlearning_rate: 0.002\n",
      "\u001b[34m\u001b[1mwandb\u001b[0m: \tmax_dist: 75\n",
      "\u001b[34m\u001b[1mwandb\u001b[0m: \tmax_epochs: 150\n",
      "\u001b[34m\u001b[1mwandb\u001b[0m: \tnum_layers: 1\n",
      "\u001b[34m\u001b[1mwandb\u001b[0m: \tpatience: 25\n",
      "\u001b[34m\u001b[1mwandb\u001b[0m: \ttype: GATConvv2\n"
     ]
    },
    {
     "data": {
      "text/html": [
       "Tracking run with wandb version 0.15.3"
      ],
      "text/plain": [
       "<IPython.core.display.HTML object>"
      ]
     },
     "metadata": {},
     "output_type": "display_data"
    },
    {
     "data": {
      "text/html": [
       "Run data is saved locally in <code>c:\\Users\\morit\\GNNPP\\gnn\\wandb\\run-20230602_224944-5xwae2dc</code>"
      ],
      "text/plain": [
       "<IPython.core.display.HTML object>"
      ]
     },
     "metadata": {},
     "output_type": "display_data"
    },
    {
     "data": {
      "text/html": [
       "Syncing run <strong><a href='https://wandb.ai/feik/GNNPP/runs/5xwae2dc' target=\"_blank\">robust-sweep-9</a></strong> to <a href='https://wandb.ai/feik/GNNPP' target=\"_blank\">Weights & Biases</a> (<a href='https://wandb.me/run' target=\"_blank\">docs</a>)<br/>Sweep page: <a href='https://wandb.ai/feik/GNNPP/sweeps/fo6141n7' target=\"_blank\">https://wandb.ai/feik/GNNPP/sweeps/fo6141n7</a>"
      ],
      "text/plain": [
       "<IPython.core.display.HTML object>"
      ]
     },
     "metadata": {},
     "output_type": "display_data"
    },
    {
     "data": {
      "text/html": [
       " View project at <a href='https://wandb.ai/feik/GNNPP' target=\"_blank\">https://wandb.ai/feik/GNNPP</a>"
      ],
      "text/plain": [
       "<IPython.core.display.HTML object>"
      ]
     },
     "metadata": {},
     "output_type": "display_data"
    },
    {
     "data": {
      "text/html": [
       " View sweep at <a href='https://wandb.ai/feik/GNNPP/sweeps/fo6141n7' target=\"_blank\">https://wandb.ai/feik/GNNPP/sweeps/fo6141n7</a>"
      ],
      "text/plain": [
       "<IPython.core.display.HTML object>"
      ]
     },
     "metadata": {},
     "output_type": "display_data"
    },
    {
     "data": {
      "text/html": [
       " View run at <a href='https://wandb.ai/feik/GNNPP/runs/5xwae2dc' target=\"_blank\">https://wandb.ai/feik/GNNPP/runs/5xwae2dc</a>"
      ],
      "text/plain": [
       "<IPython.core.display.HTML object>"
      ]
     },
     "metadata": {},
     "output_type": "display_data"
    },
    {
     "name": "stderr",
     "output_type": "stream",
     "text": [
      "Building dataset: 100%|██████████| 3530/3530 [00:30<00:00, 117.33it/s]\n",
      "Epochs: 100%|██████████| 150/150 [08:50<00:00,  3.54s/it, Train Loss=1.17, Val Loss=0.982, Best Loss=0.98, No Improvement=3]  \n"
     ]
    },
    {
     "data": {
      "text/html": [
       "Waiting for W&B process to finish... <strong style=\"color:green\">(success).</strong>"
      ],
      "text/plain": [
       "<IPython.core.display.HTML object>"
      ]
     },
     "metadata": {},
     "output_type": "display_data"
    },
    {
     "data": {
      "application/vnd.jupyter.widget-view+json": {
       "model_id": "c8ab38900b484d68839bb27c6bd2fa09",
       "version_major": 2,
       "version_minor": 0
      },
      "text/plain": [
       "VBox(children=(Label(value='0.021 MB of 0.021 MB uploaded (0.000 MB deduped)\\r'), FloatProgress(value=1.0, max…"
      ]
     },
     "metadata": {},
     "output_type": "display_data"
    },
    {
     "data": {
      "text/html": [
       "<style>\n",
       "    table.wandb td:nth-child(1) { padding: 0 10px; text-align: left ; width: auto;} td:nth-child(2) {text-align: left ; width: 100%}\n",
       "    .wandb-row { display: flex; flex-direction: row; flex-wrap: wrap; justify-content: flex-start; width: 100% }\n",
       "    .wandb-col { display: flex; flex-direction: column; flex-basis: 100%; flex: 1; padding: 10px; }\n",
       "    </style>\n",
       "<div class=\"wandb-row\"><div class=\"wandb-col\"><h3>Run history:</h3><br/><table class=\"wandb\"><tr><td>best_val_loss</td><td>█▃▂▂▂▂▂▁▁▁▁▁▁▁▁▁▁▁▁▁▁▁▁▁▁▁▁▁▁▁▁▁▁▁▁▁▁▁▁▁</td></tr><tr><td>evaluation_error</td><td>▁</td></tr><tr><td>train_loss</td><td>█▃▂▂▁▁▁▁▁▁▁▁▁▁▁▁▁▁▁▁▁▁▁▁▁▁▁▁▁▁▁▁▁▁▁▁▁▁▁▁</td></tr><tr><td>trained_epochs</td><td>▁</td></tr><tr><td>val_loss</td><td>█▅▃▂▂▂▂▂▁▁▂▁▁▁▁▁▁▁▁▁▁▁▁▁▁▁▁▁▁▁▁▁▁▁▁▁▁▁▁▁</td></tr></table><br/></div><div class=\"wandb-col\"><h3>Run summary:</h3><br/><table class=\"wandb\"><tr><td>best_val_loss</td><td>0.98034</td></tr><tr><td>evaluation_error</td><td>1.01063</td></tr><tr><td>train_loss</td><td>1.16832</td></tr><tr><td>trained_epochs</td><td>124</td></tr><tr><td>val_loss</td><td>0.98222</td></tr></table><br/></div></div>"
      ],
      "text/plain": [
       "<IPython.core.display.HTML object>"
      ]
     },
     "metadata": {},
     "output_type": "display_data"
    },
    {
     "data": {
      "text/html": [
       " View run <strong style=\"color:#cdcd00\">robust-sweep-9</strong> at: <a href='https://wandb.ai/feik/GNNPP/runs/5xwae2dc' target=\"_blank\">https://wandb.ai/feik/GNNPP/runs/5xwae2dc</a><br/>Synced 7 W&B file(s), 0 media file(s), 0 artifact file(s) and 0 other file(s)"
      ],
      "text/plain": [
       "<IPython.core.display.HTML object>"
      ]
     },
     "metadata": {},
     "output_type": "display_data"
    },
    {
     "data": {
      "text/html": [
       "Find logs at: <code>.\\wandb\\run-20230602_224944-5xwae2dc\\logs</code>"
      ],
      "text/plain": [
       "<IPython.core.display.HTML object>"
      ]
     },
     "metadata": {},
     "output_type": "display_data"
    },
    {
     "name": "stderr",
     "output_type": "stream",
     "text": [
      "\u001b[34m\u001b[1mwandb\u001b[0m: Agent Starting Run: poxkpcto with config:\n",
      "\u001b[34m\u001b[1mwandb\u001b[0m: \tbatch_size: 8\n",
      "\u001b[34m\u001b[1mwandb\u001b[0m: \tembed_dim: 2\n",
      "\u001b[34m\u001b[1mwandb\u001b[0m: \theads: 1\n",
      "\u001b[34m\u001b[1mwandb\u001b[0m: \thidden_channels: 1\n",
      "\u001b[34m\u001b[1mwandb\u001b[0m: \tlearning_rate: 0.002\n",
      "\u001b[34m\u001b[1mwandb\u001b[0m: \tmax_dist: 75\n",
      "\u001b[34m\u001b[1mwandb\u001b[0m: \tmax_epochs: 150\n",
      "\u001b[34m\u001b[1mwandb\u001b[0m: \tnum_layers: 1\n",
      "\u001b[34m\u001b[1mwandb\u001b[0m: \tpatience: 25\n",
      "\u001b[34m\u001b[1mwandb\u001b[0m: \ttype: ResGNNv2\n"
     ]
    },
    {
     "data": {
      "text/html": [
       "Tracking run with wandb version 0.15.3"
      ],
      "text/plain": [
       "<IPython.core.display.HTML object>"
      ]
     },
     "metadata": {},
     "output_type": "display_data"
    },
    {
     "data": {
      "text/html": [
       "Run data is saved locally in <code>c:\\Users\\morit\\GNNPP\\gnn\\wandb\\run-20230602_225922-poxkpcto</code>"
      ],
      "text/plain": [
       "<IPython.core.display.HTML object>"
      ]
     },
     "metadata": {},
     "output_type": "display_data"
    },
    {
     "data": {
      "text/html": [
       "Syncing run <strong><a href='https://wandb.ai/feik/GNNPP/runs/poxkpcto' target=\"_blank\">gallant-sweep-10</a></strong> to <a href='https://wandb.ai/feik/GNNPP' target=\"_blank\">Weights & Biases</a> (<a href='https://wandb.me/run' target=\"_blank\">docs</a>)<br/>Sweep page: <a href='https://wandb.ai/feik/GNNPP/sweeps/fo6141n7' target=\"_blank\">https://wandb.ai/feik/GNNPP/sweeps/fo6141n7</a>"
      ],
      "text/plain": [
       "<IPython.core.display.HTML object>"
      ]
     },
     "metadata": {},
     "output_type": "display_data"
    },
    {
     "data": {
      "text/html": [
       " View project at <a href='https://wandb.ai/feik/GNNPP' target=\"_blank\">https://wandb.ai/feik/GNNPP</a>"
      ],
      "text/plain": [
       "<IPython.core.display.HTML object>"
      ]
     },
     "metadata": {},
     "output_type": "display_data"
    },
    {
     "data": {
      "text/html": [
       " View sweep at <a href='https://wandb.ai/feik/GNNPP/sweeps/fo6141n7' target=\"_blank\">https://wandb.ai/feik/GNNPP/sweeps/fo6141n7</a>"
      ],
      "text/plain": [
       "<IPython.core.display.HTML object>"
      ]
     },
     "metadata": {},
     "output_type": "display_data"
    },
    {
     "data": {
      "text/html": [
       " View run at <a href='https://wandb.ai/feik/GNNPP/runs/poxkpcto' target=\"_blank\">https://wandb.ai/feik/GNNPP/runs/poxkpcto</a>"
      ],
      "text/plain": [
       "<IPython.core.display.HTML object>"
      ]
     },
     "metadata": {},
     "output_type": "display_data"
    },
    {
     "name": "stderr",
     "output_type": "stream",
     "text": [
      "Building dataset: 100%|██████████| 3530/3530 [00:29<00:00, 119.08it/s]\n",
      "Epochs: 100%|██████████| 150/150 [08:56<00:00,  3.58s/it, Train Loss=1.18, Val Loss=0.992, Best Loss=0.987, No Improvement=4] \n"
     ]
    },
    {
     "data": {
      "text/html": [
       "Waiting for W&B process to finish... <strong style=\"color:green\">(success).</strong>"
      ],
      "text/plain": [
       "<IPython.core.display.HTML object>"
      ]
     },
     "metadata": {},
     "output_type": "display_data"
    },
    {
     "data": {
      "application/vnd.jupyter.widget-view+json": {
       "model_id": "4e5bdc60ee9341e195a37493684f8439",
       "version_major": 2,
       "version_minor": 0
      },
      "text/plain": [
       "VBox(children=(Label(value='0.021 MB of 0.021 MB uploaded (0.000 MB deduped)\\r'), FloatProgress(value=1.0, max…"
      ]
     },
     "metadata": {},
     "output_type": "display_data"
    },
    {
     "data": {
      "text/html": [
       "<style>\n",
       "    table.wandb td:nth-child(1) { padding: 0 10px; text-align: left ; width: auto;} td:nth-child(2) {text-align: left ; width: 100%}\n",
       "    .wandb-row { display: flex; flex-direction: row; flex-wrap: wrap; justify-content: flex-start; width: 100% }\n",
       "    .wandb-col { display: flex; flex-direction: column; flex-basis: 100%; flex: 1; padding: 10px; }\n",
       "    </style>\n",
       "<div class=\"wandb-row\"><div class=\"wandb-col\"><h3>Run history:</h3><br/><table class=\"wandb\"><tr><td>best_val_loss</td><td>█▄▃▂▂▂▂▂▁▁▁▁▁▁▁▁▁▁▁▁▁▁▁▁▁▁▁▁▁▁▁▁▁▁▁▁▁▁▁▁</td></tr><tr><td>evaluation_error</td><td>▁</td></tr><tr><td>train_loss</td><td>█▄▂▁▁▁▁▁▁▁▁▁▁▁▁▁▁▁▁▁▁▁▁▁▁▁▁▁▁▁▁▁▁▁▁▁▁▁▁▁</td></tr><tr><td>trained_epochs</td><td>▁</td></tr><tr><td>val_loss</td><td>█▅▃▂▂▁▁▁▁▁▁▁▁▁▁▁▁▁▁▁▁▁▁▁▁▁▁▁▁▁▁▁▁▁▁▁▁▁▁▁</td></tr></table><br/></div><div class=\"wandb-col\"><h3>Run summary:</h3><br/><table class=\"wandb\"><tr><td>best_val_loss</td><td>0.98683</td></tr><tr><td>evaluation_error</td><td>1.02</td></tr><tr><td>train_loss</td><td>1.176</td></tr><tr><td>trained_epochs</td><td>124</td></tr><tr><td>val_loss</td><td>0.99155</td></tr></table><br/></div></div>"
      ],
      "text/plain": [
       "<IPython.core.display.HTML object>"
      ]
     },
     "metadata": {},
     "output_type": "display_data"
    },
    {
     "data": {
      "text/html": [
       " View run <strong style=\"color:#cdcd00\">gallant-sweep-10</strong> at: <a href='https://wandb.ai/feik/GNNPP/runs/poxkpcto' target=\"_blank\">https://wandb.ai/feik/GNNPP/runs/poxkpcto</a><br/>Synced 7 W&B file(s), 0 media file(s), 0 artifact file(s) and 0 other file(s)"
      ],
      "text/plain": [
       "<IPython.core.display.HTML object>"
      ]
     },
     "metadata": {},
     "output_type": "display_data"
    },
    {
     "data": {
      "text/html": [
       "Find logs at: <code>.\\wandb\\run-20230602_225922-poxkpcto\\logs</code>"
      ],
      "text/plain": [
       "<IPython.core.display.HTML object>"
      ]
     },
     "metadata": {},
     "output_type": "display_data"
    },
    {
     "name": "stderr",
     "output_type": "stream",
     "text": [
      "\u001b[34m\u001b[1mwandb\u001b[0m: Agent Starting Run: 3y9fn999 with config:\n",
      "\u001b[34m\u001b[1mwandb\u001b[0m: \tbatch_size: 8\n",
      "\u001b[34m\u001b[1mwandb\u001b[0m: \tembed_dim: 2\n",
      "\u001b[34m\u001b[1mwandb\u001b[0m: \theads: 1\n",
      "\u001b[34m\u001b[1mwandb\u001b[0m: \thidden_channels: 1\n",
      "\u001b[34m\u001b[1mwandb\u001b[0m: \tlearning_rate: 0.002\n",
      "\u001b[34m\u001b[1mwandb\u001b[0m: \tmax_dist: 75\n",
      "\u001b[34m\u001b[1mwandb\u001b[0m: \tmax_epochs: 150\n",
      "\u001b[34m\u001b[1mwandb\u001b[0m: \tnum_layers: 2\n",
      "\u001b[34m\u001b[1mwandb\u001b[0m: \tpatience: 25\n",
      "\u001b[34m\u001b[1mwandb\u001b[0m: \ttype: GATConvv2\n"
     ]
    },
    {
     "data": {
      "text/html": [
       "Tracking run with wandb version 0.15.3"
      ],
      "text/plain": [
       "<IPython.core.display.HTML object>"
      ]
     },
     "metadata": {},
     "output_type": "display_data"
    },
    {
     "data": {
      "text/html": [
       "Run data is saved locally in <code>c:\\Users\\morit\\GNNPP\\gnn\\wandb\\run-20230602_230903-3y9fn999</code>"
      ],
      "text/plain": [
       "<IPython.core.display.HTML object>"
      ]
     },
     "metadata": {},
     "output_type": "display_data"
    },
    {
     "data": {
      "text/html": [
       "Syncing run <strong><a href='https://wandb.ai/feik/GNNPP/runs/3y9fn999' target=\"_blank\">major-sweep-11</a></strong> to <a href='https://wandb.ai/feik/GNNPP' target=\"_blank\">Weights & Biases</a> (<a href='https://wandb.me/run' target=\"_blank\">docs</a>)<br/>Sweep page: <a href='https://wandb.ai/feik/GNNPP/sweeps/fo6141n7' target=\"_blank\">https://wandb.ai/feik/GNNPP/sweeps/fo6141n7</a>"
      ],
      "text/plain": [
       "<IPython.core.display.HTML object>"
      ]
     },
     "metadata": {},
     "output_type": "display_data"
    },
    {
     "data": {
      "text/html": [
       " View project at <a href='https://wandb.ai/feik/GNNPP' target=\"_blank\">https://wandb.ai/feik/GNNPP</a>"
      ],
      "text/plain": [
       "<IPython.core.display.HTML object>"
      ]
     },
     "metadata": {},
     "output_type": "display_data"
    },
    {
     "data": {
      "text/html": [
       " View sweep at <a href='https://wandb.ai/feik/GNNPP/sweeps/fo6141n7' target=\"_blank\">https://wandb.ai/feik/GNNPP/sweeps/fo6141n7</a>"
      ],
      "text/plain": [
       "<IPython.core.display.HTML object>"
      ]
     },
     "metadata": {},
     "output_type": "display_data"
    },
    {
     "data": {
      "text/html": [
       " View run at <a href='https://wandb.ai/feik/GNNPP/runs/3y9fn999' target=\"_blank\">https://wandb.ai/feik/GNNPP/runs/3y9fn999</a>"
      ],
      "text/plain": [
       "<IPython.core.display.HTML object>"
      ]
     },
     "metadata": {},
     "output_type": "display_data"
    },
    {
     "name": "stderr",
     "output_type": "stream",
     "text": [
      "Building dataset: 100%|██████████| 3530/3530 [00:29<00:00, 118.01it/s]\n",
      "Epochs:  71%|███████▏  | 107/150 [07:57<03:11,  4.46s/it, Train Loss=1.24, Val Loss=1.06, Best Loss=1.06, No Improvement=25]\n"
     ]
    },
    {
     "name": "stdout",
     "output_type": "stream",
     "text": [
      "Early stopping.\n"
     ]
    },
    {
     "data": {
      "text/html": [
       "Waiting for W&B process to finish... <strong style=\"color:green\">(success).</strong>"
      ],
      "text/plain": [
       "<IPython.core.display.HTML object>"
      ]
     },
     "metadata": {},
     "output_type": "display_data"
    },
    {
     "data": {
      "text/html": [
       "<style>\n",
       "    table.wandb td:nth-child(1) { padding: 0 10px; text-align: left ; width: auto;} td:nth-child(2) {text-align: left ; width: 100%}\n",
       "    .wandb-row { display: flex; flex-direction: row; flex-wrap: wrap; justify-content: flex-start; width: 100% }\n",
       "    .wandb-col { display: flex; flex-direction: column; flex-basis: 100%; flex: 1; padding: 10px; }\n",
       "    </style>\n",
       "<div class=\"wandb-row\"><div class=\"wandb-col\"><h3>Run history:</h3><br/><table class=\"wandb\"><tr><td>best_val_loss</td><td>█▄▂▂▂▂▂▂▁▁▁▁▁▁▁▁▁▁▁▁▁▁▁▁▁▁▁▁</td></tr><tr><td>evaluation_error</td><td>▁</td></tr><tr><td>train_loss</td><td>█▂▁▁▁▁▁▁▁▁▁▁▁▁▁▁▁▁▁▁▁▁▁▁▁▁▁▁▁▁▁▁▁▁▁▁▁▁▁▁</td></tr><tr><td>trained_epochs</td><td>▁</td></tr><tr><td>val_loss</td><td>█▂▂▁▁▁▁▁▁▁▁▁▁▁▁▁▁▁▁▁▁▁▁▁▁▁▁▁▁▁▁▁▁▁▁▁▁▁▁▁</td></tr></table><br/></div><div class=\"wandb-col\"><h3>Run summary:</h3><br/><table class=\"wandb\"><tr><td>best_val_loss</td><td>1.06288</td></tr><tr><td>evaluation_error</td><td>1.0882</td></tr><tr><td>train_loss</td><td>1.24079</td></tr><tr><td>trained_epochs</td><td>82</td></tr><tr><td>val_loss</td><td>1.06482</td></tr></table><br/></div></div>"
      ],
      "text/plain": [
       "<IPython.core.display.HTML object>"
      ]
     },
     "metadata": {},
     "output_type": "display_data"
    },
    {
     "data": {
      "text/html": [
       " View run <strong style=\"color:#cdcd00\">major-sweep-11</strong> at: <a href='https://wandb.ai/feik/GNNPP/runs/3y9fn999' target=\"_blank\">https://wandb.ai/feik/GNNPP/runs/3y9fn999</a><br/>Synced 7 W&B file(s), 0 media file(s), 0 artifact file(s) and 0 other file(s)"
      ],
      "text/plain": [
       "<IPython.core.display.HTML object>"
      ]
     },
     "metadata": {},
     "output_type": "display_data"
    },
    {
     "data": {
      "text/html": [
       "Find logs at: <code>.\\wandb\\run-20230602_230903-3y9fn999\\logs</code>"
      ],
      "text/plain": [
       "<IPython.core.display.HTML object>"
      ]
     },
     "metadata": {},
     "output_type": "display_data"
    },
    {
     "name": "stderr",
     "output_type": "stream",
     "text": [
      "\u001b[34m\u001b[1mwandb\u001b[0m: Agent Starting Run: z6cfcpzu with config:\n",
      "\u001b[34m\u001b[1mwandb\u001b[0m: \tbatch_size: 8\n",
      "\u001b[34m\u001b[1mwandb\u001b[0m: \tembed_dim: 2\n",
      "\u001b[34m\u001b[1mwandb\u001b[0m: \theads: 1\n",
      "\u001b[34m\u001b[1mwandb\u001b[0m: \thidden_channels: 1\n",
      "\u001b[34m\u001b[1mwandb\u001b[0m: \tlearning_rate: 0.002\n",
      "\u001b[34m\u001b[1mwandb\u001b[0m: \tmax_dist: 75\n",
      "\u001b[34m\u001b[1mwandb\u001b[0m: \tmax_epochs: 150\n",
      "\u001b[34m\u001b[1mwandb\u001b[0m: \tnum_layers: 2\n",
      "\u001b[34m\u001b[1mwandb\u001b[0m: \tpatience: 25\n",
      "\u001b[34m\u001b[1mwandb\u001b[0m: \ttype: ResGNNv2\n"
     ]
    },
    {
     "data": {
      "text/html": [
       "Tracking run with wandb version 0.15.3"
      ],
      "text/plain": [
       "<IPython.core.display.HTML object>"
      ]
     },
     "metadata": {},
     "output_type": "display_data"
    },
    {
     "data": {
      "text/html": [
       "Run data is saved locally in <code>c:\\Users\\morit\\GNNPP\\gnn\\wandb\\run-20230602_231749-z6cfcpzu</code>"
      ],
      "text/plain": [
       "<IPython.core.display.HTML object>"
      ]
     },
     "metadata": {},
     "output_type": "display_data"
    },
    {
     "data": {
      "text/html": [
       "Syncing run <strong><a href='https://wandb.ai/feik/GNNPP/runs/z6cfcpzu' target=\"_blank\">avid-sweep-12</a></strong> to <a href='https://wandb.ai/feik/GNNPP' target=\"_blank\">Weights & Biases</a> (<a href='https://wandb.me/run' target=\"_blank\">docs</a>)<br/>Sweep page: <a href='https://wandb.ai/feik/GNNPP/sweeps/fo6141n7' target=\"_blank\">https://wandb.ai/feik/GNNPP/sweeps/fo6141n7</a>"
      ],
      "text/plain": [
       "<IPython.core.display.HTML object>"
      ]
     },
     "metadata": {},
     "output_type": "display_data"
    },
    {
     "data": {
      "text/html": [
       " View project at <a href='https://wandb.ai/feik/GNNPP' target=\"_blank\">https://wandb.ai/feik/GNNPP</a>"
      ],
      "text/plain": [
       "<IPython.core.display.HTML object>"
      ]
     },
     "metadata": {},
     "output_type": "display_data"
    },
    {
     "data": {
      "text/html": [
       " View sweep at <a href='https://wandb.ai/feik/GNNPP/sweeps/fo6141n7' target=\"_blank\">https://wandb.ai/feik/GNNPP/sweeps/fo6141n7</a>"
      ],
      "text/plain": [
       "<IPython.core.display.HTML object>"
      ]
     },
     "metadata": {},
     "output_type": "display_data"
    },
    {
     "data": {
      "text/html": [
       " View run at <a href='https://wandb.ai/feik/GNNPP/runs/z6cfcpzu' target=\"_blank\">https://wandb.ai/feik/GNNPP/runs/z6cfcpzu</a>"
      ],
      "text/plain": [
       "<IPython.core.display.HTML object>"
      ]
     },
     "metadata": {},
     "output_type": "display_data"
    },
    {
     "name": "stderr",
     "output_type": "stream",
     "text": [
      "Building dataset: 100%|██████████| 3530/3530 [00:29<00:00, 118.59it/s]\n",
      "Epochs: 100%|██████████| 150/150 [11:39<00:00,  4.66s/it, Train Loss=1.17, Val Loss=0.991, Best Loss=0.983, No Improvement=22]\n"
     ]
    },
    {
     "data": {
      "text/html": [
       "Waiting for W&B process to finish... <strong style=\"color:green\">(success).</strong>"
      ],
      "text/plain": [
       "<IPython.core.display.HTML object>"
      ]
     },
     "metadata": {},
     "output_type": "display_data"
    },
    {
     "data": {
      "text/html": [
       "<style>\n",
       "    table.wandb td:nth-child(1) { padding: 0 10px; text-align: left ; width: auto;} td:nth-child(2) {text-align: left ; width: 100%}\n",
       "    .wandb-row { display: flex; flex-direction: row; flex-wrap: wrap; justify-content: flex-start; width: 100% }\n",
       "    .wandb-col { display: flex; flex-direction: column; flex-basis: 100%; flex: 1; padding: 10px; }\n",
       "    </style>\n",
       "<div class=\"wandb-row\"><div class=\"wandb-col\"><h3>Run history:</h3><br/><table class=\"wandb\"><tr><td>best_val_loss</td><td>█▄▃▂▂▂▂▂▂▂▂▁▁▁▁▁▁▁▁▁▁▁▁▁▁▁▁▁▁▁▁▁▁▁▁▁</td></tr><tr><td>evaluation_error</td><td>▁</td></tr><tr><td>train_loss</td><td>█▃▂▂▂▁▁▁▁▁▁▁▁▁▁▁▁▁▁▁▁▁▁▁▁▁▁▁▁▁▁▁▁▁▁▁▁▁▁▁</td></tr><tr><td>trained_epochs</td><td>▁</td></tr><tr><td>val_loss</td><td>█▄▃▂▂▂▂▂▁▁▁▁▁▁▁▁▁▁▁▁▁▁▁▁▂▁▁▁▁▁▁▁▁▁▁▁▁▁▁▁</td></tr></table><br/></div><div class=\"wandb-col\"><h3>Run summary:</h3><br/><table class=\"wandb\"><tr><td>best_val_loss</td><td>0.98348</td></tr><tr><td>evaluation_error</td><td>1.01128</td></tr><tr><td>train_loss</td><td>1.171</td></tr><tr><td>trained_epochs</td><td>124</td></tr><tr><td>val_loss</td><td>0.99141</td></tr></table><br/></div></div>"
      ],
      "text/plain": [
       "<IPython.core.display.HTML object>"
      ]
     },
     "metadata": {},
     "output_type": "display_data"
    },
    {
     "data": {
      "text/html": [
       " View run <strong style=\"color:#cdcd00\">avid-sweep-12</strong> at: <a href='https://wandb.ai/feik/GNNPP/runs/z6cfcpzu' target=\"_blank\">https://wandb.ai/feik/GNNPP/runs/z6cfcpzu</a><br/>Synced 7 W&B file(s), 0 media file(s), 1 artifact file(s) and 0 other file(s)"
      ],
      "text/plain": [
       "<IPython.core.display.HTML object>"
      ]
     },
     "metadata": {},
     "output_type": "display_data"
    },
    {
     "data": {
      "text/html": [
       "Find logs at: <code>.\\wandb\\run-20230602_231749-z6cfcpzu\\logs</code>"
      ],
      "text/plain": [
       "<IPython.core.display.HTML object>"
      ]
     },
     "metadata": {},
     "output_type": "display_data"
    },
    {
     "name": "stderr",
     "output_type": "stream",
     "text": [
      "\u001b[34m\u001b[1mwandb\u001b[0m: Sweep Agent: Waiting for job.\n",
      "\u001b[34m\u001b[1mwandb\u001b[0m: Job received.\n",
      "\u001b[34m\u001b[1mwandb\u001b[0m: Agent Starting Run: nbiclxe3 with config:\n",
      "\u001b[34m\u001b[1mwandb\u001b[0m: \tbatch_size: 8\n",
      "\u001b[34m\u001b[1mwandb\u001b[0m: \tembed_dim: 2\n",
      "\u001b[34m\u001b[1mwandb\u001b[0m: \theads: 1\n",
      "\u001b[34m\u001b[1mwandb\u001b[0m: \thidden_channels: 1\n",
      "\u001b[34m\u001b[1mwandb\u001b[0m: \tlearning_rate: 0.002\n",
      "\u001b[34m\u001b[1mwandb\u001b[0m: \tmax_dist: 75\n",
      "\u001b[34m\u001b[1mwandb\u001b[0m: \tmax_epochs: 150\n",
      "\u001b[34m\u001b[1mwandb\u001b[0m: \tnum_layers: 3\n",
      "\u001b[34m\u001b[1mwandb\u001b[0m: \tpatience: 25\n",
      "\u001b[34m\u001b[1mwandb\u001b[0m: \ttype: GATConvv2\n"
     ]
    },
    {
     "data": {
      "text/html": [
       "Tracking run with wandb version 0.15.3"
      ],
      "text/plain": [
       "<IPython.core.display.HTML object>"
      ]
     },
     "metadata": {},
     "output_type": "display_data"
    },
    {
     "data": {
      "text/html": [
       "Run data is saved locally in <code>c:\\Users\\morit\\GNNPP\\gnn\\wandb\\run-20230602_233047-nbiclxe3</code>"
      ],
      "text/plain": [
       "<IPython.core.display.HTML object>"
      ]
     },
     "metadata": {},
     "output_type": "display_data"
    },
    {
     "data": {
      "text/html": [
       "Syncing run <strong><a href='https://wandb.ai/feik/GNNPP/runs/nbiclxe3' target=\"_blank\">lucky-sweep-13</a></strong> to <a href='https://wandb.ai/feik/GNNPP' target=\"_blank\">Weights & Biases</a> (<a href='https://wandb.me/run' target=\"_blank\">docs</a>)<br/>Sweep page: <a href='https://wandb.ai/feik/GNNPP/sweeps/fo6141n7' target=\"_blank\">https://wandb.ai/feik/GNNPP/sweeps/fo6141n7</a>"
      ],
      "text/plain": [
       "<IPython.core.display.HTML object>"
      ]
     },
     "metadata": {},
     "output_type": "display_data"
    },
    {
     "data": {
      "text/html": [
       " View project at <a href='https://wandb.ai/feik/GNNPP' target=\"_blank\">https://wandb.ai/feik/GNNPP</a>"
      ],
      "text/plain": [
       "<IPython.core.display.HTML object>"
      ]
     },
     "metadata": {},
     "output_type": "display_data"
    },
    {
     "data": {
      "text/html": [
       " View sweep at <a href='https://wandb.ai/feik/GNNPP/sweeps/fo6141n7' target=\"_blank\">https://wandb.ai/feik/GNNPP/sweeps/fo6141n7</a>"
      ],
      "text/plain": [
       "<IPython.core.display.HTML object>"
      ]
     },
     "metadata": {},
     "output_type": "display_data"
    },
    {
     "data": {
      "text/html": [
       " View run at <a href='https://wandb.ai/feik/GNNPP/runs/nbiclxe3' target=\"_blank\">https://wandb.ai/feik/GNNPP/runs/nbiclxe3</a>"
      ],
      "text/plain": [
       "<IPython.core.display.HTML object>"
      ]
     },
     "metadata": {},
     "output_type": "display_data"
    },
    {
     "name": "stderr",
     "output_type": "stream",
     "text": [
      "Building dataset: 100%|██████████| 3530/3530 [00:31<00:00, 112.12it/s]\n",
      "Epochs:  38%|███▊      | 57/150 [05:09<08:24,  5.43s/it, Train Loss=3.85, Val Loss=3.63, Best Loss=3.63, No Improvement=25]\n"
     ]
    },
    {
     "name": "stdout",
     "output_type": "stream",
     "text": [
      "Early stopping.\n"
     ]
    },
    {
     "data": {
      "text/html": [
       "Waiting for W&B process to finish... <strong style=\"color:green\">(success).</strong>"
      ],
      "text/plain": [
       "<IPython.core.display.HTML object>"
      ]
     },
     "metadata": {},
     "output_type": "display_data"
    },
    {
     "data": {
      "application/vnd.jupyter.widget-view+json": {
       "model_id": "05bf0ebeb0364707842915601c7844e9",
       "version_major": 2,
       "version_minor": 0
      },
      "text/plain": [
       "VBox(children=(Label(value='0.077 MB of 0.077 MB uploaded (0.000 MB deduped)\\r'), FloatProgress(value=1.0, max…"
      ]
     },
     "metadata": {},
     "output_type": "display_data"
    },
    {
     "data": {
      "text/html": [
       "<style>\n",
       "    table.wandb td:nth-child(1) { padding: 0 10px; text-align: left ; width: auto;} td:nth-child(2) {text-align: left ; width: 100%}\n",
       "    .wandb-row { display: flex; flex-direction: row; flex-wrap: wrap; justify-content: flex-start; width: 100% }\n",
       "    .wandb-col { display: flex; flex-direction: column; flex-basis: 100%; flex: 1; padding: 10px; }\n",
       "    </style>\n",
       "<div class=\"wandb-row\"><div class=\"wandb-col\"><h3>Run history:</h3><br/><table class=\"wandb\"><tr><td>best_val_loss</td><td>█▇▅▄▄▃▂▂▂▂▁▁▁▁▁▁▁▁▁▁▁▁▁▁▁▁▁▁▁▁▁▁▁</td></tr><tr><td>evaluation_error</td><td>▁</td></tr><tr><td>train_loss</td><td>█▇▆▄▃▂▂▁▁▁▁▁▁▁▁▁▁▁▁▁▁▁▁▁▁▁▁▁▁▁▁▁▁▁▁▁▁▁▁▁</td></tr><tr><td>trained_epochs</td><td>▁</td></tr><tr><td>val_loss</td><td>█▇▅▄▃▂▂▁▁▁▁▁▁▁▁▁▁▁▁▁▁▁▁▁▁▁▁▁▁▁▁▁▁▁▁▁▁▁▁▁</td></tr></table><br/></div><div class=\"wandb-col\"><h3>Run summary:</h3><br/><table class=\"wandb\"><tr><td>best_val_loss</td><td>3.62904</td></tr><tr><td>evaluation_error</td><td>3.79233</td></tr><tr><td>train_loss</td><td>3.85397</td></tr><tr><td>trained_epochs</td><td>32</td></tr><tr><td>val_loss</td><td>3.62969</td></tr></table><br/></div></div>"
      ],
      "text/plain": [
       "<IPython.core.display.HTML object>"
      ]
     },
     "metadata": {},
     "output_type": "display_data"
    },
    {
     "data": {
      "text/html": [
       " View run <strong style=\"color:#cdcd00\">lucky-sweep-13</strong> at: <a href='https://wandb.ai/feik/GNNPP/runs/nbiclxe3' target=\"_blank\">https://wandb.ai/feik/GNNPP/runs/nbiclxe3</a><br/>Synced 7 W&B file(s), 0 media file(s), 0 artifact file(s) and 0 other file(s)"
      ],
      "text/plain": [
       "<IPython.core.display.HTML object>"
      ]
     },
     "metadata": {},
     "output_type": "display_data"
    },
    {
     "data": {
      "text/html": [
       "Find logs at: <code>.\\wandb\\run-20230602_233047-nbiclxe3\\logs</code>"
      ],
      "text/plain": [
       "<IPython.core.display.HTML object>"
      ]
     },
     "metadata": {},
     "output_type": "display_data"
    },
    {
     "name": "stderr",
     "output_type": "stream",
     "text": [
      "\u001b[34m\u001b[1mwandb\u001b[0m: Agent Starting Run: ll2mkioo with config:\n",
      "\u001b[34m\u001b[1mwandb\u001b[0m: \tbatch_size: 8\n",
      "\u001b[34m\u001b[1mwandb\u001b[0m: \tembed_dim: 2\n",
      "\u001b[34m\u001b[1mwandb\u001b[0m: \theads: 1\n",
      "\u001b[34m\u001b[1mwandb\u001b[0m: \thidden_channels: 1\n",
      "\u001b[34m\u001b[1mwandb\u001b[0m: \tlearning_rate: 0.002\n",
      "\u001b[34m\u001b[1mwandb\u001b[0m: \tmax_dist: 75\n",
      "\u001b[34m\u001b[1mwandb\u001b[0m: \tmax_epochs: 150\n",
      "\u001b[34m\u001b[1mwandb\u001b[0m: \tnum_layers: 3\n",
      "\u001b[34m\u001b[1mwandb\u001b[0m: \tpatience: 25\n",
      "\u001b[34m\u001b[1mwandb\u001b[0m: \ttype: ResGNNv2\n"
     ]
    },
    {
     "data": {
      "text/html": [
       "Tracking run with wandb version 0.15.3"
      ],
      "text/plain": [
       "<IPython.core.display.HTML object>"
      ]
     },
     "metadata": {},
     "output_type": "display_data"
    },
    {
     "data": {
      "text/html": [
       "Run data is saved locally in <code>c:\\Users\\morit\\GNNPP\\gnn\\wandb\\run-20230602_233643-ll2mkioo</code>"
      ],
      "text/plain": [
       "<IPython.core.display.HTML object>"
      ]
     },
     "metadata": {},
     "output_type": "display_data"
    },
    {
     "data": {
      "text/html": [
       "Syncing run <strong><a href='https://wandb.ai/feik/GNNPP/runs/ll2mkioo' target=\"_blank\">whole-sweep-14</a></strong> to <a href='https://wandb.ai/feik/GNNPP' target=\"_blank\">Weights & Biases</a> (<a href='https://wandb.me/run' target=\"_blank\">docs</a>)<br/>Sweep page: <a href='https://wandb.ai/feik/GNNPP/sweeps/fo6141n7' target=\"_blank\">https://wandb.ai/feik/GNNPP/sweeps/fo6141n7</a>"
      ],
      "text/plain": [
       "<IPython.core.display.HTML object>"
      ]
     },
     "metadata": {},
     "output_type": "display_data"
    },
    {
     "data": {
      "text/html": [
       " View project at <a href='https://wandb.ai/feik/GNNPP' target=\"_blank\">https://wandb.ai/feik/GNNPP</a>"
      ],
      "text/plain": [
       "<IPython.core.display.HTML object>"
      ]
     },
     "metadata": {},
     "output_type": "display_data"
    },
    {
     "data": {
      "text/html": [
       " View sweep at <a href='https://wandb.ai/feik/GNNPP/sweeps/fo6141n7' target=\"_blank\">https://wandb.ai/feik/GNNPP/sweeps/fo6141n7</a>"
      ],
      "text/plain": [
       "<IPython.core.display.HTML object>"
      ]
     },
     "metadata": {},
     "output_type": "display_data"
    },
    {
     "data": {
      "text/html": [
       " View run at <a href='https://wandb.ai/feik/GNNPP/runs/ll2mkioo' target=\"_blank\">https://wandb.ai/feik/GNNPP/runs/ll2mkioo</a>"
      ],
      "text/plain": [
       "<IPython.core.display.HTML object>"
      ]
     },
     "metadata": {},
     "output_type": "display_data"
    },
    {
     "name": "stderr",
     "output_type": "stream",
     "text": [
      "Building dataset: 100%|██████████| 3530/3530 [00:30<00:00, 117.06it/s]\n",
      "Epochs:  49%|████▊     | 73/150 [06:15<06:32,  5.10s/it, Train Loss=1.2, Val Loss=1.09, Best Loss=1.09, No Improvement=0] "
     ]
    }
   ],
   "source": [
    "wandb.agent(\"feik/GNNPP/fo6141n7\", train_model_catch_errors)"
   ]
  }
 ],
 "metadata": {
  "accelerator": "GPU",
  "colab": {
   "gpuType": "T4",
   "provenance": [
    {
     "file_id": "https://github.com/m-j-w-f/GNNPP/blob/testing/gnn/gnn_test.ipynb",
     "timestamp": 1683748469885
    }
   ]
  },
  "gpuClass": "standard",
  "kernelspec": {
   "display_name": "GNNPP",
   "language": "python",
   "name": "python3"
  },
  "language_info": {
   "codemirror_mode": {
    "name": "ipython",
    "version": 3
   },
   "file_extension": ".py",
   "mimetype": "text/x-python",
   "name": "python",
   "nbconvert_exporter": "python",
   "pygments_lexer": "ipython3",
   "version": "3.11.3"
  },
  "orig_nbformat": 4
 },
 "nbformat": 4,
 "nbformat_minor": 0
}
