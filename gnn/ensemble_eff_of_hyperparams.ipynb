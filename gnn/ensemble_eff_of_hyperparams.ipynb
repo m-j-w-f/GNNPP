{
 "cells": [
  {
   "cell_type": "code",
   "execution_count": 1,
   "metadata": {
    "collapsed": true,
    "ExecuteTime": {
     "end_time": "2023-09-12T12:25:05.912540Z",
     "start_time": "2023-09-12T12:25:04.013350Z"
    }
   },
   "outputs": [],
   "source": [
    "import subprocess\n",
    "from multiprocessing import Process\n",
    "\n",
    "from ensemble_train import crps, create_model_from_config, crps_no_avg\n",
    "import numpy as np\n",
    "import pandas as pd\n",
    "import os\n",
    "import sys\n",
    "import torch\n",
    "from torch_geometric.loader import DataLoader\n",
    "from torch_geometric.nn import summary\n",
    "from tqdm import tqdm\n",
    "import yaml\n",
    "import glob\n",
    "import copy\n",
    "\n",
    "sys.path.append('../utils')\n",
    "import helpers\n",
    "\n",
    "import matplotlib.pyplot as plt\n",
    "import matplotlib as mpl\n",
    "\n",
    "\n",
    "from scipy.stats import norm\n",
    "%matplotlib inline"
   ]
  },
  {
   "cell_type": "markdown",
   "source": [
    "# Load Best Config Files"
   ],
   "metadata": {
    "collapsed": false
   }
  },
  {
   "cell_type": "code",
   "execution_count": null,
   "outputs": [],
   "source": [
    "configs = []\n",
    "for config_path in glob.glob(os.path.join(\"experiments/eff_of_hyperparams/best_configs\", '*.yaml')):\n",
    "    print(config_path)\n",
    "\n",
    "    with open(config_path, 'r') as config_file:\n",
    "        config = yaml.safe_load(config_file)\n",
    "\n",
    "    configs.append(config)"
   ],
   "metadata": {
    "collapsed": false
   }
  },
  {
   "cell_type": "markdown",
   "source": [
    "# Create Variants"
   ],
   "metadata": {
    "collapsed": false
   }
  },
  {
   "cell_type": "code",
   "execution_count": null,
   "outputs": [],
   "source": [
    "connectivity = [0,30,50,70,100,200,400,1000]  # only max dist for now\n",
    "depth = [1,2,3,4]\n",
    "embedding = [1,2,4,8,16,32,64]\n",
    "hidden_channels = [16,32,64,128,265,512]\n",
    "\n",
    "variants = {\"connectivity\": connectivity,\n",
    "            \"depth\":depth,\n",
    "            \"embedding\":embedding,\n",
    "            \"hidden_channels\": hidden_channels}\n",
    "variants"
   ],
   "metadata": {
    "collapsed": false
   }
  },
  {
   "cell_type": "code",
   "execution_count": null,
   "outputs": [],
   "source": [
    "# Create Config Files\n",
    "variants_configs = {}\n",
    "for parameter, variants_list in variants.items():\n",
    "    print(f\"Creating configs for Hyperparameter: {parameter}\")\n",
    "    variants_dict = {}\n",
    "    for variant in variants_list:\n",
    "        print(f\"Values: {variant}\")\n",
    "        conf_variants = []\n",
    "        for config in configs:\n",
    "            config_copy = copy.deepcopy(config)\n",
    "            if parameter == \"connectivity\":\n",
    "                config_copy[\"data\"][\"method\"] = \"max_dist\"\n",
    "                config_copy[\"data\"][\"max_dist\"] = variant\n",
    "            elif parameter == \"depth\":\n",
    "                config_copy[\"model\"][\"num_layers\"] = variant\n",
    "            elif parameter == \"embedding\":\n",
    "                config_copy[\"model\"][\"embed_dim\"] = variant\n",
    "            elif parameter == \"hidden_channels\":\n",
    "                config_copy[\"model\"][\"hidden_channels\"] = variant\n",
    "            conf_variants.append(config_copy)\n",
    "        variants_dict[variant] = conf_variants\n",
    "    variants_configs[parameter] = variants_dict"
   ],
   "metadata": {
    "collapsed": false
   }
  },
  {
   "cell_type": "code",
   "execution_count": null,
   "outputs": [],
   "source": [
    "scores_dict = {}\n",
    "for hyperparam, dicts in variants_configs.items():\n",
    "    folder_path = os.path.join(\"experiments\", \"eff_of_hyperparams\", hyperparam)\n",
    "    for value, configs in dicts.items():\n",
    "        value_folder = os.path.join(folder_path, str(value))\n",
    "        if not os.path.exists(value_folder):\n",
    "            os.makedirs(value_folder)\n",
    "        for config in configs:\n",
    "            config_path = os.path.join(value_folder, config[\"model\"][\"architecture\"])\n",
    "            if not os.path.exists(config_path):\n",
    "                os.makedirs(config_path)\n",
    "            config_path_file = config_path + f\"/{config['model']['architecture']}_{hyperparam}_{value}.yaml\"\n",
    "            with open(config_path_file, 'w') as file:\n",
    "                yaml.dump(config, file)\n",
    "            print(f\"created config {config_path_file}\")"
   ],
   "metadata": {
    "collapsed": false
   }
  },
  {
   "cell_type": "markdown",
   "source": [
    "# Train Ensembles..."
   ],
   "metadata": {
    "collapsed": false
   }
  },
  {
   "cell_type": "code",
   "execution_count": null,
   "outputs": [],
   "source": [
    "#TODO Train hidden channels 512 GlobalInfo again"
   ],
   "metadata": {
    "collapsed": false
   }
  },
  {
   "cell_type": "code",
   "execution_count": null,
   "outputs": [],
   "source": [
    "def split_list(input_list, n):\n",
    "    return [input_list[i:i + n] for i in range(0, len(input_list), n)]\n",
    "\n",
    "def run_script(params):\n",
    "    \"\"\"\n",
    "    Train a single model by launching a single subprocess facilitating the training\n",
    "    :param params: tuple containing the id of the run, the device number and the name of the config file for the run\n",
    "    \"\"\"\n",
    "    id_val, device_val, config_val = params\n",
    "    cmd = [sys.executable, \"ensemble_train.py\", \"--id\", str(id_val), \"--device\", str(device_val), \"--config\", config_val, \"--no-small\"]\n",
    "    print(f\"Executing command {cmd}\")\n",
    "    subprocess.run(cmd)\n",
    "\n",
    "def train_ensemble(config_path, n):\n",
    "    \"\"\"\n",
    "    Trains an ensemble of models\n",
    "    :param config_path: path to the config file of the models\n",
    "    :param n: number of models to train in parallel\n",
    "    \"\"\"\n",
    "    params = [(i, idx%2, config_path) for idx, i in enumerate(range(10))]\n",
    "    params_list_list = split_list(params, n)\n",
    "\n",
    "    for params_list in params_list_list:\n",
    "        print(f\"Start training of models\")\n",
    "        processes = []\n",
    "        for params in params_list:\n",
    "            print(params[0])\n",
    "            process = Process(target=run_script, args=(params,))\n",
    "            processes.append(process)\n",
    "            process.start()\n",
    "\n",
    "        for process in processes:\n",
    "            process.join()"
   ],
   "metadata": {
    "collapsed": false
   }
  },
  {
   "cell_type": "code",
   "execution_count": null,
   "outputs": [],
   "source": [
    "folder_path = \"experiments/eff_of_hyperparams/connectivity\"\n",
    "\n",
    "files = glob.glob(os.path.join(folder_path, '**', '*.yaml'), recursive=True)\n",
    "\n",
    "files.sort(key=lambda x:int(x.split(\"/\")[3]))"
   ],
   "metadata": {
    "collapsed": false
   }
  },
  {
   "cell_type": "code",
   "execution_count": null,
   "outputs": [],
   "source": [
    "# Start from 400\n",
    "files = files[19:]\n",
    "files"
   ],
   "metadata": {
    "collapsed": false
   }
  },
  {
   "cell_type": "code",
   "execution_count": null,
   "outputs": [],
   "source": [
    "for config in files:\n",
    "    print(f\"training ensemble for {config}\")\n",
    "    train_ensemble(config, 2)"
   ],
   "metadata": {
    "collapsed": false
   }
  },
  {
   "cell_type": "markdown",
   "source": [
    "# ...and measure scores"
   ],
   "metadata": {
    "collapsed": false
   }
  },
  {
   "cell_type": "code",
   "execution_count": 8,
   "outputs": [],
   "source": [
    "def get_models_from_checkpoints(config_path, config, emb_num_features):\n",
    "    model_list = []\n",
    "    for snapshot in os.listdir(f\"{os.path.dirname(config_path)}/checkpoints\"):\n",
    "        path_to_snapshot = f\"{os.path.dirname(config_path)}/checkpoints/{snapshot}\"\n",
    "        model, optimizer, _ = create_model_from_config(config, emb_num_features, device)\n",
    "        try:\n",
    "            checkpoint = torch.load(path_to_snapshot)\n",
    "            model.load_state_dict(checkpoint['model_state_dict'])\n",
    "            model.to(device)\n",
    "            model_list.append(model)\n",
    "        except Exception as e:\n",
    "            print(e)\n",
    "            print(f\"could not load {path_to_snapshot}\")\n",
    "    return model_list\n",
    "\n",
    "def evaluate_ensemble(model_list, loader):\n",
    "    mu_list_model = []\n",
    "    sigma_list_model = []\n",
    "\n",
    "    for model in model_list:\n",
    "        mu_list_batch = []\n",
    "        sigma_list_batch = []\n",
    "        y_list = []\n",
    "\n",
    "        for batch in loader:\n",
    "            batch.to(device)\n",
    "            out = model(batch.x, batch.edge_index, batch.edge_attr, batch.batch)\n",
    "            mu, sigma = torch.split(out, 1, dim=-1)\n",
    "            y = batch.y\n",
    "            y = y.cpu().numpy()\n",
    "            y_list.append(y)\n",
    "\n",
    "            mu = mu.detach().cpu().numpy().flatten()\n",
    "            mu_list_batch.append(mu)\n",
    "            sigma = sigma.detach().cpu().numpy().flatten()\n",
    "            sigma_list_batch.append(sigma)\n",
    "\n",
    "\n",
    "        mu = np.concatenate(mu_list_batch)\n",
    "        mu_list_model.append(mu)\n",
    "        sigma = np.concatenate(sigma_list_batch)\n",
    "        sigma_list_model.append(sigma)\n",
    "        y = np.concatenate(y_list)\n",
    "\n",
    "    mu = np.array(mu_list_model).T.mean(axis=1).reshape(-1,1)\n",
    "    sigma = np.array(sigma_list_model).T.mean(axis=1).reshape(-1,1)\n",
    "\n",
    "    mu = torch.tensor(mu).to(device)\n",
    "    sigma = torch.tensor(sigma).to(device)\n",
    "    preds = torch.cat([mu, sigma], dim=1)\n",
    "    y = torch.tensor(y).to(device)\n",
    "    err = crps(mu_sigma=preds, y=y)\n",
    "    print(f\"Ensemble CRPS: {err.item()}\")\n",
    "    return err\n",
    "\n",
    "def create_torch_dataset(normalized_data, dist_matrix, position_matrix, config):\n",
    "    torch_data_test = []\n",
    "    pbar = tqdm(normalized_data['date'].unique(), desc=\"Creating PyG Data\", leave=False)\n",
    "    for date in pbar:\n",
    "        pbar.set_postfix({\"date\": date})\n",
    "        torch_data_test.append(helpers.create_data(df=normalized_data,\n",
    "                                                   date=date,\n",
    "                                                   dist_matrix=dist_matrix,\n",
    "                                                   position_matrix=position_matrix,\n",
    "                                                   method=config['data']['method'],\n",
    "                                                   max_dist=config['data']['max_dist'],\n",
    "                                                   k=config['data']['nearest_k'],\n",
    "                                                   nearest_k_mode=config['data']['nearest_k_mode']))\n",
    "    return torch_data_test"
   ],
   "metadata": {
    "collapsed": false,
    "ExecuteTime": {
     "end_time": "2023-09-12T14:51:58.254356Z",
     "start_time": "2023-09-12T14:51:58.213106Z"
    }
   }
  },
  {
   "cell_type": "code",
   "execution_count": 9,
   "outputs": [],
   "source": [
    "# Load Data\n",
    "data = helpers.load_data(indexed=False)\n",
    "data = helpers.clean_data(data, max_missing=121, max_alt=1000.0)\n",
    "normalized_data = helpers.normalize_data(data, last_obs=-len(data[data.date.dt.year == 2016]), method=\"max\")\n",
    "stations = helpers.load_stations(data)\n",
    "dist_matrix = np.load('dist_matrix.npy')\n",
    "position_matrix = np.array(stations[['station', 'lon', 'lat']])\n",
    "normalized_data = normalized_data[normalized_data.date.dt.year == 2016]\n",
    "\n",
    "# Set Device\n",
    "device = torch.device(\"cuda:1\" if torch.cuda.is_available() else \"cpu\")"
   ],
   "metadata": {
    "collapsed": false,
    "ExecuteTime": {
     "end_time": "2023-09-12T14:52:09.369792Z",
     "start_time": "2023-09-12T14:52:00.696322Z"
    }
   }
  },
  {
   "cell_type": "code",
   "execution_count": 10,
   "outputs": [],
   "source": [
    "path = \"experiments/eff_of_hyperparams/hidden_channels\""
   ],
   "metadata": {
    "collapsed": false,
    "ExecuteTime": {
     "end_time": "2023-09-12T14:52:09.370653Z",
     "start_time": "2023-09-12T14:52:09.369947Z"
    }
   }
  },
  {
   "cell_type": "code",
   "execution_count": 11,
   "outputs": [],
   "source": [
    "folders = glob.glob(path + \"/*\")\n",
    "folders.sort(key=lambda x:int(x.split(\"/\")[3]))"
   ],
   "metadata": {
    "collapsed": false,
    "ExecuteTime": {
     "end_time": "2023-09-12T14:52:09.380566Z",
     "start_time": "2023-09-12T14:52:09.370059Z"
    }
   }
  },
  {
   "cell_type": "code",
   "execution_count": 12,
   "outputs": [
    {
     "name": "stdout",
     "output_type": "stream",
     "text": [
      "experiments/eff_of_hyperparams/hidden_channels/16\n"
     ]
    },
    {
     "name": "stderr",
     "output_type": "stream",
     "text": [
      "                                                                                                     \r"
     ]
    },
    {
     "name": "stdout",
     "output_type": "stream",
     "text": [
      "Ensemble CRPS: 0.787139892578125\n",
      "Ensemble CRPS: 0.8128814101219177\n",
      "Ensemble CRPS: 0.769058108329773\n",
      "experiments/eff_of_hyperparams/hidden_channels/32\n"
     ]
    },
    {
     "name": "stderr",
     "output_type": "stream",
     "text": [
      "                                                                                                     \r"
     ]
    },
    {
     "name": "stdout",
     "output_type": "stream",
     "text": [
      "Ensemble CRPS: 0.7782459259033203\n",
      "Ensemble CRPS: 0.7969139218330383\n",
      "Ensemble CRPS: 0.7580651640892029\n",
      "experiments/eff_of_hyperparams/hidden_channels/64\n"
     ]
    },
    {
     "name": "stderr",
     "output_type": "stream",
     "text": [
      "                                                                                                     \r"
     ]
    },
    {
     "name": "stdout",
     "output_type": "stream",
     "text": [
      "Ensemble CRPS: 0.7726976275444031\n",
      "Ensemble CRPS: 0.7713125944137573\n",
      "Ensemble CRPS: 0.7529658675193787\n",
      "experiments/eff_of_hyperparams/hidden_channels/128\n"
     ]
    },
    {
     "name": "stderr",
     "output_type": "stream",
     "text": [
      "                                                                                                     \r"
     ]
    },
    {
     "name": "stdout",
     "output_type": "stream",
     "text": [
      "Ensemble CRPS: 0.7650622725486755\n",
      "Ensemble CRPS: 0.7638050317764282\n",
      "Ensemble CRPS: 0.7498785853385925\n",
      "experiments/eff_of_hyperparams/hidden_channels/265\n"
     ]
    },
    {
     "name": "stderr",
     "output_type": "stream",
     "text": [
      "                                                                                                     \r"
     ]
    },
    {
     "name": "stdout",
     "output_type": "stream",
     "text": [
      "Ensemble CRPS: 0.7553174495697021\n",
      "Ensemble CRPS: 0.7537948489189148\n",
      "Ensemble CRPS: 0.7726836800575256\n",
      "experiments/eff_of_hyperparams/hidden_channels/512\n"
     ]
    },
    {
     "name": "stderr",
     "output_type": "stream",
     "text": [
      "                                                                                                     \r"
     ]
    },
    {
     "name": "stdout",
     "output_type": "stream",
     "text": [
      "Ensemble CRPS: 0.7516835331916809\n",
      "Ensemble CRPS: 0.7610036730766296\n",
      "Ensemble CRPS: 0.7614017128944397\n"
     ]
    }
   ],
   "source": [
    "GraphSAGE_scores = []\n",
    "ResGAT_scores = []\n",
    "MPWGI_scores  = []\n",
    "\n",
    "for folder in folders:\n",
    "    print(folder)\n",
    "    # Find Configs\n",
    "    GraphSage_config_path = glob.glob(folder + \"/GraphSAGE/*.yaml\")[0]\n",
    "    ResGAT_config_path = glob.glob(folder + \"/ResGnn/*.yaml\")[0]\n",
    "    MPWGI_config_path = glob.glob(folder + \"/GlobalInfo/*.yaml\")[0]\n",
    "    # Load Configs\n",
    "    with open(GraphSage_config_path, 'r') as config_file:\n",
    "        GraphSage_config = yaml.safe_load(config_file)\n",
    "    with open(ResGAT_config_path, 'r') as config_file:\n",
    "        ResGAT_config = yaml.safe_load(config_file)\n",
    "    with open(MPWGI_config_path, 'r') as config_file:\n",
    "        MPWGI_config = yaml.safe_load(config_file)\n",
    "    # Generate data for each config\n",
    "    if GraphSage_config[\"data\"][\"max_dist\"] == ResGAT_config[\"data\"][\"max_dist\"] and\\\n",
    "       ResGAT_config[\"data\"][\"max_dist\"] == MPWGI_config[\"data\"][\"max_dist\"] and\\\n",
    "       GraphSage_config[\"data\"][\"method\"] == ResGAT_config[\"data\"][\"method\"] and\\\n",
    "       MPWGI_config[\"data\"][\"method\"] == MPWGI_config[\"data\"][\"method\"]:\n",
    "            print(\"Only one Dataloader needed\")\n",
    "            GrapSAGE_dataset = ResGAT_dataset = MPWGI_dataset = create_torch_dataset(normalized_data, dist_matrix, position_matrix, GraphSage_config)\n",
    "            GraphSAGE_loader = ResGAT_loader = MPWGI_loader = DataLoader(GrapSAGE_dataset, batch_size=8, shuffle=False)\n",
    "    else:\n",
    "        GrapSAGE_dataset = create_torch_dataset(normalized_data, dist_matrix, position_matrix, GraphSage_config)\n",
    "        GraphSAGE_loader = DataLoader(GrapSAGE_dataset, batch_size=8, shuffle=False)\n",
    "\n",
    "        ResGAT_dataset = create_torch_dataset(normalized_data, dist_matrix, position_matrix, ResGAT_config)\n",
    "        ResGAT_loader = DataLoader(ResGAT_dataset, batch_size=8, shuffle=False)\n",
    "\n",
    "        MPWGI_dataset = create_torch_dataset(normalized_data, dist_matrix, position_matrix, MPWGI_config)\n",
    "        MPWGI_loader = DataLoader(MPWGI_dataset, batch_size=8, shuffle=False)\n",
    "\n",
    "    # Load trained Ensembles\n",
    "    GraphSAGE_emb_num_features = GrapSAGE_dataset[0].num_features + GraphSage_config['model']['embed_dim'] - 1\n",
    "    ResGAT_emb_num_features = ResGAT_dataset[0].num_features + ResGAT_config['model']['embed_dim'] - 1\n",
    "    MPWGI_emb_num_features = MPWGI_dataset[0].num_features + MPWGI_config['model']['embed_dim'] - 1\n",
    "\n",
    "    GraphSAGE_ensemble = get_models_from_checkpoints(GraphSage_config_path, GraphSage_config, GraphSAGE_emb_num_features)\n",
    "    ResGAT_ensemble = get_models_from_checkpoints(ResGAT_config_path, ResGAT_config, ResGAT_emb_num_features)\n",
    "    MPWGI_ensemble = get_models_from_checkpoints(MPWGI_config_path, MPWGI_config, MPWGI_emb_num_features)\n",
    "\n",
    "    # Evaluate ensembles\n",
    "    GraphSAGE_scores.append(evaluate_ensemble(GraphSAGE_ensemble, GraphSAGE_loader))\n",
    "    ResGAT_scores.append(evaluate_ensemble(ResGAT_ensemble, ResGAT_loader))\n",
    "    MPWGI_scores.append(evaluate_ensemble(MPWGI_ensemble, MPWGI_loader))\n"
   ],
   "metadata": {
    "collapsed": false,
    "ExecuteTime": {
     "end_time": "2023-09-12T14:54:33.538813Z",
     "start_time": "2023-09-12T14:52:09.394102Z"
    }
   }
  },
  {
   "cell_type": "code",
   "execution_count": 14,
   "outputs": [
    {
     "data": {
      "text/plain": "<Figure size 1000x500 with 1 Axes>",
      "image/png": "[encoded data removed]"
     },
     "metadata": {},
     "output_type": "display_data"
    }
   ],
   "source": [
    "plt.rcParams.update({'font.size': 12})\n",
    "variants = [int(f.split(\"/\")[3]) for f in folders]\n",
    "variable = folder.split(\"/\")[2]\n",
    "\n",
    "plt.figure(figsize=(10, 5))\n",
    "plt.plot(variants, [s.item() for s in GraphSAGE_scores], color=\"royalblue\", label=\"GraphSAGE\")\n",
    "plt.plot(variants, [s.item() for s in ResGAT_scores], color=\"black\", label=\"ResGAT\")\n",
    "plt.plot(variants, [s.item() for s in MPWGI_scores], color=\"crimson\", label=\"MPWGI\")\n",
    "\n",
    "# TODO customize these\n",
    "plt.xticks(variants, variants)\n",
    "plt.ylabel(\"Ensemble CRPS\")\n",
    "plt.xlabel(\"Dimension of Hidden Channels $h$\")\n",
    "plt.title(\"Effect of Hidden Channels on CRPS\")\n",
    "\n",
    "plt.legend()\n",
    "plt.grid(True)\n",
    "plt.savefig(f\"plots/effect_of_{variable}.pdf\", format='pdf', dpi=600, bbox_inches='tight')"
   ],
   "metadata": {
    "collapsed": false,
    "ExecuteTime": {
     "end_time": "2023-09-12T15:22:14.575981Z",
     "start_time": "2023-09-12T15:22:14.200499Z"
    }
   }
  }
 ],
 "metadata": {
  "kernelspec": {
   "display_name": "Python 3",
   "language": "python",
   "name": "python3"
  },
  "language_info": {
   "codemirror_mode": {
    "name": "ipython",
    "version": 2
   },
   "file_extension": ".py",
   "mimetype": "text/x-python",
   "name": "python",
   "nbconvert_exporter": "python",
   "pygments_lexer": "ipython2",
   "version": "2.7.6"
  }
 },
 "nbformat": 4,
 "nbformat_minor": 0
}
