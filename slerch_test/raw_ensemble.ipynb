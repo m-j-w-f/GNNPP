{
 "cells": [
  {
   "cell_type": "markdown",
   "source": [
    "# Raw ensemble Performance\n",
    "\n",
    "This notebook is used to calculate the CRPS of the Raw Ensemble"
   ],
   "metadata": {
    "collapsed": false
   }
  },
  {
   "cell_type": "code",
   "execution_count": 1,
   "outputs": [],
   "source": [
    "import torch\n",
    "import numpy as np\n",
    "import sys\n",
    "sys.path.append('../utils')\n",
    "from helpers import load_data, clean_data"
   ],
   "metadata": {
    "collapsed": false,
    "ExecuteTime": {
     "end_time": "2023-06-04T14:57:46.045672Z",
     "start_time": "2023-06-04T14:57:44.094280Z"
    }
   }
  },
  {
   "cell_type": "code",
   "execution_count": 2,
   "metadata": {
    "collapsed": true,
    "ExecuteTime": {
     "end_time": "2023-06-04T14:59:02.737287Z",
     "start_time": "2023-06-04T14:59:02.732125Z"
    }
   },
   "outputs": [],
   "source": [
    "def crps(mu: torch.tensor, sigma: torch.tensor, y: torch.tensor):\n",
    "    \"\"\"Calculates the Continuous Ranked Probability Score (CRPS) assuming normally distributed df\n",
    "\n",
    "    Args:\n",
    "        mu (torch.tensor): mean\n",
    "        sigma (torch.tensor): standard deviation\n",
    "        y (torch.tensor): observed df\n",
    "\n",
    "    Returns:\n",
    "        torch.tensor: CRPS value\n",
    "    \"\"\"\n",
    "    PI = np.pi #3.14159265359\n",
    "    omega = (y - mu) / sigma\n",
    "    # PDF of normal distribution at omega\n",
    "    pdf = 1/(torch.sqrt(torch.tensor(2 * PI))) * torch.exp(-0.5 * omega ** 2)\n",
    "\n",
    "    # Source: https://stats.stackexchange.com/questions/187828/how-are-the-error-function-and-standard-normal-distribution-function-related\n",
    "    cdf = 0.5 * (1 + torch.erf(omega / torch.sqrt(torch.tensor(2))))\n",
    "\n",
    "    crps = sigma * (omega * (2 * cdf - 1) + 2 * pdf - 1/torch.sqrt(torch.tensor(PI)))\n",
    "    return  torch.mean(crps)"
   ]
  },
  {
   "cell_type": "code",
   "execution_count": 3,
   "outputs": [
    {
     "ename": "NameError",
     "evalue": "name 'np' is not defined",
     "output_type": "error",
     "traceback": [
      "\u001B[0;31m---------------------------------------------------------------------------\u001B[0m",
      "\u001B[0;31mNameError\u001B[0m                                 Traceback (most recent call last)",
      "Cell \u001B[0;32mIn[3], line 8\u001B[0m\n\u001B[1;32m      6\u001B[0m mu_tmp \u001B[38;5;241m=\u001B[39m torch\u001B[38;5;241m.\u001B[39mtensor(data_2016\u001B[38;5;241m.\u001B[39mt2m_mean\u001B[38;5;241m.\u001B[39mvalues)\n\u001B[1;32m      7\u001B[0m sigma_tmp \u001B[38;5;241m=\u001B[39m torch\u001B[38;5;241m.\u001B[39mtensor(data_2016\u001B[38;5;241m.\u001B[39mt2m_var\u001B[38;5;241m.\u001B[39mvalues)\n\u001B[0;32m----> 8\u001B[0m \u001B[43mcrps\u001B[49m\u001B[43m(\u001B[49m\u001B[43my\u001B[49m\u001B[38;5;241;43m=\u001B[39;49m\u001B[43mobs_tmp\u001B[49m\u001B[43m,\u001B[49m\u001B[43m \u001B[49m\u001B[43mmu\u001B[49m\u001B[38;5;241;43m=\u001B[39;49m\u001B[43mmu_tmp\u001B[49m\u001B[43m,\u001B[49m\u001B[43m \u001B[49m\u001B[43msigma\u001B[49m\u001B[38;5;241;43m=\u001B[39;49m\u001B[43msigma_tmp\u001B[49m\u001B[43m)\u001B[49m\n",
      "Cell \u001B[0;32mIn[2], line 12\u001B[0m, in \u001B[0;36mcrps\u001B[0;34m(mu, sigma, y)\u001B[0m\n\u001B[1;32m      1\u001B[0m \u001B[38;5;28;01mdef\u001B[39;00m \u001B[38;5;21mcrps\u001B[39m(mu: torch\u001B[38;5;241m.\u001B[39mtensor, sigma: torch\u001B[38;5;241m.\u001B[39mtensor, y: torch\u001B[38;5;241m.\u001B[39mtensor):\n\u001B[1;32m      2\u001B[0m \u001B[38;5;250m    \u001B[39m\u001B[38;5;124;03m\"\"\"Calculates the Continuous Ranked Probability Score (CRPS) assuming normally distributed df\u001B[39;00m\n\u001B[1;32m      3\u001B[0m \n\u001B[1;32m      4\u001B[0m \u001B[38;5;124;03m    Args:\u001B[39;00m\n\u001B[0;32m   (...)\u001B[0m\n\u001B[1;32m     10\u001B[0m \u001B[38;5;124;03m        torch.tensor: CRPS value\u001B[39;00m\n\u001B[1;32m     11\u001B[0m \u001B[38;5;124;03m    \"\"\"\u001B[39;00m\n\u001B[0;32m---> 12\u001B[0m     PI \u001B[38;5;241m=\u001B[39m \u001B[43mnp\u001B[49m\u001B[38;5;241m.\u001B[39mpi \u001B[38;5;66;03m#3.14159265359\u001B[39;00m\n\u001B[1;32m     13\u001B[0m     omega \u001B[38;5;241m=\u001B[39m (y \u001B[38;5;241m-\u001B[39m mu) \u001B[38;5;241m/\u001B[39m sigma\n\u001B[1;32m     14\u001B[0m     \u001B[38;5;66;03m# PDF of normal distribution at omega\u001B[39;00m\n",
      "\u001B[0;31mNameError\u001B[0m: name 'np' is not defined"
     ]
    }
   ],
   "source": [
    "data_tmp = load_data(indexed = True)\n",
    "data_tmp = clean_data(data_tmp, max_missing=121, max_alt=1000.0)\n",
    "\n",
    "data_2016 = data_tmp[data_tmp.index.year == 2016]\n",
    "obs_tmp = torch.tensor(data_2016.obs.values)\n",
    "mu_tmp = torch.tensor(data_2016.t2m_mean.values)\n",
    "sigma_tmp = torch.tensor(data_2016.t2m_var.values)\n",
    "crps(y=obs_tmp, mu=mu_tmp, sigma=sigma_tmp)"
   ],
   "metadata": {
    "collapsed": false,
    "ExecuteTime": {
     "end_time": "2023-06-04T14:59:08.832624Z",
     "start_time": "2023-06-04T14:59:03.952568Z"
    }
   }
  }
 ],
 "metadata": {
  "kernelspec": {
   "display_name": "Python 3",
   "language": "python",
   "name": "python3"
  },
  "language_info": {
   "codemirror_mode": {
    "name": "ipython",
    "version": 2
   },
   "file_extension": ".py",
   "mimetype": "text/x-python",
   "name": "python",
   "nbconvert_exporter": "python",
   "pygments_lexer": "ipython2",
   "version": "2.7.6"
  }
 },
 "nbformat": 4,
 "nbformat_minor": 0
}
